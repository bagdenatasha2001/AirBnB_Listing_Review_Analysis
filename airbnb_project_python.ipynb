{
 "cells": [
  {
   "cell_type": "markdown",
   "id": "a4345069",
   "metadata": {
    "execution": {
     "iopub.execute_input": "2025-01-14T09:22:12.793245Z",
     "iopub.status.busy": "2025-01-14T09:22:12.792916Z",
     "iopub.status.idle": "2025-01-14T09:22:12.924577Z",
     "shell.execute_reply": "2025-01-14T09:22:12.923590Z",
     "shell.execute_reply.started": "2025-01-14T09:22:12.793220Z"
    },
    "papermill": {
     "duration": 0.01432,
     "end_time": "2025-01-22T11:39:53.310938",
     "exception": false,
     "start_time": "2025-01-22T11:39:53.296618",
     "status": "completed"
    },
    "tags": []
   },
   "source": [
    " <img src=\"https://logodix.com/logo/6364.png\" width=1200 height=200 >\n"
   ]
  },
  {
   "cell_type": "markdown",
   "id": "e19e7594",
   "metadata": {
    "papermill": {
     "duration": 0.013404,
     "end_time": "2025-01-22T11:39:53.338202",
     "exception": false,
     "start_time": "2025-01-22T11:39:53.324798",
     "status": "completed"
    },
    "tags": []
   },
   "source": [
    "<img src=\"https://i.ytimg.com/vi/-tUbPMhhGR4/maxresdefault.jpg\" width=1100 height=350  >"
   ]
  },
  {
   "cell_type": "markdown",
   "id": "10043a92",
   "metadata": {
    "papermill": {
     "duration": 0.01328,
     "end_time": "2025-01-22T11:39:53.365612",
     "exception": false,
     "start_time": "2025-01-22T11:39:53.352332",
     "status": "completed"
    },
    "tags": []
   },
   "source": [
    "# **What is AirBnB ?**"
   ]
  },
  {
   "cell_type": "markdown",
   "id": "60c251f5",
   "metadata": {
    "papermill": {
     "duration": 0.013204,
     "end_time": "2025-01-22T11:39:53.392304",
     "exception": false,
     "start_time": "2025-01-22T11:39:53.379100",
     "status": "completed"
    },
    "tags": []
   },
   "source": [
    "#### Airbnb is an online platform that connects travelers with people offering short-term lodging or unique experiences. Launched in 2008, it has become one of the leading options for accommodations worldwide, featuring a diverse range of properties like apartments, homes, villas, treehouses, and even boats. The platform also offers \"Airbnb Experiences,\" where hosts provide activities such as cooking classes, guided tours, and cultural workshops, giving travelers a deeper connection to their destination.\n",
    "\n",
    "\n",
    "#### For guests, Airbnb provides flexibility and variety, allowing them to choose accommodations based on their preferences and budget. The platform's user-friendly interface includes features like search filters, reviews, and secure payment options to enhance the booking process. For hosts, it offers an opportunity to earn income by listing their properties or experiences, with the freedom to set rules and manage bookings. However, the quality and experience can vary, as listings are individually managed. Additionally, Airbnb faces challenges like regulatory issues in some cities and the potential for service fees to add to costs.\n",
    "\n",
    "\n",
    "#### Despite these challenges, Airbnb has reshaped how people travel by fostering authentic, local experiences. It offers alternatives to traditional hotels, catering to everyone from budget-conscious backpackers to luxury travelers. Whether you're looking for a cozy home in a quiet neighborhood or a unique stay in an exotic location, Airbnb has options for every type of traveler."
   ]
  },
  {
   "cell_type": "markdown",
   "id": "6da18d06",
   "metadata": {
    "papermill": {
     "duration": 0.013061,
     "end_time": "2025-01-22T11:39:53.418787",
     "exception": false,
     "start_time": "2025-01-22T11:39:53.405726",
     "status": "completed"
    },
    "tags": []
   },
   "source": [
    "# **EXPLORATORY DATA ANALYSIS**"
   ]
  },
  {
   "cell_type": "markdown",
   "id": "b44da6a0",
   "metadata": {
    "execution": {
     "iopub.execute_input": "2025-01-14T16:29:33.390739Z",
     "iopub.status.busy": "2025-01-14T16:29:33.390271Z",
     "iopub.status.idle": "2025-01-14T16:29:33.535975Z",
     "shell.execute_reply": "2025-01-14T16:29:33.534609Z",
     "shell.execute_reply.started": "2025-01-14T16:29:33.390705Z"
    },
    "papermill": {
     "duration": 0.013021,
     "end_time": "2025-01-22T11:39:53.445470",
     "exception": false,
     "start_time": "2025-01-22T11:39:53.432449",
     "status": "completed"
    },
    "tags": []
   },
   "source": [
    "## **IMPORTING LIBRARIES**"
   ]
  },
  {
   "cell_type": "code",
   "execution_count": 1,
   "id": "15ebb66b",
   "metadata": {
    "_cell_guid": "b1076dfc-b9ad-4769-8c92-a6c4dae69d19",
    "_uuid": "8f2839f25d086af736a60e9eeb907d3b93b6e0e5",
    "execution": {
     "iopub.execute_input": "2025-01-22T11:39:53.474233Z",
     "iopub.status.busy": "2025-01-22T11:39:53.473764Z",
     "iopub.status.idle": "2025-01-22T11:39:54.412345Z",
     "shell.execute_reply": "2025-01-22T11:39:54.411011Z"
    },
    "papermill": {
     "duration": 0.955183,
     "end_time": "2025-01-22T11:39:54.414568",
     "exception": false,
     "start_time": "2025-01-22T11:39:53.459385",
     "status": "completed"
    },
    "tags": []
   },
   "outputs": [
    {
     "name": "stdout",
     "output_type": "stream",
     "text": [
      "/kaggle/input/airbnb-listings-reviews/Airbnb Data/Listings.csv\n",
      "/kaggle/input/airbnb-listings-reviews/Airbnb Data/Reviews.csv\n",
      "/kaggle/input/airbnb-listings-reviews/Airbnb Data/Reviews_data_dictionary.csv\n",
      "/kaggle/input/airbnb-listings-reviews/Airbnb Data/Listings_data_dictionary.csv\n"
     ]
    }
   ],
   "source": [
    "# This Python 3 environment comes with many helpful analytics libraries installed\n",
    "# It is defined by the kaggle/python Docker image: https://github.com/kaggle/docker-python\n",
    "# For example, here's several helpful packages to load\n",
    "\n",
    "import numpy as np # linear algebra\n",
    "import pandas as pd # data processing, CSV file I/O (e.g. pd.read_csv)\n",
    "\n",
    "# Input data files are available in the read-only \"../input/\" directory\n",
    "# For example, running this (by clicking run or pressing Shift+Enter) will list all files under the input directory\n",
    "\n",
    "import os\n",
    "for dirname, _, filenames in os.walk('/kaggle/input'):\n",
    "    for filename in filenames:\n",
    "        print(os.path.join(dirname, filename))\n",
    "\n",
    "# You can write up to 20GB to the current directory (/kaggle/working/) that gets preserved as output when you create a version using \"Save & Run All\" \n",
    "# You can also write temporary files to /kaggle/temp/, but they won't be saved outside of the current session"
   ]
  },
  {
   "cell_type": "markdown",
   "id": "8d8c0f22",
   "metadata": {
    "papermill": {
     "duration": 0.013768,
     "end_time": "2025-01-22T11:39:54.443086",
     "exception": false,
     "start_time": "2025-01-22T11:39:54.429318",
     "status": "completed"
    },
    "tags": []
   },
   "source": [
    "# **LODING AND CHEKING DATASET**"
   ]
  },
  {
   "cell_type": "markdown",
   "id": "fb6e7f78",
   "metadata": {
    "papermill": {
     "duration": 0.013828,
     "end_time": "2025-01-22T11:39:54.470575",
     "exception": false,
     "start_time": "2025-01-22T11:39:54.456747",
     "status": "completed"
    },
    "tags": []
   },
   "source": [
    "## **Code Loads The Airbnb Review data dictionary from a CSV file** "
   ]
  },
  {
   "cell_type": "code",
   "execution_count": 2,
   "id": "5423d10b",
   "metadata": {
    "execution": {
     "iopub.execute_input": "2025-01-22T11:39:54.499340Z",
     "iopub.status.busy": "2025-01-22T11:39:54.498827Z",
     "iopub.status.idle": "2025-01-22T11:39:54.519012Z",
     "shell.execute_reply": "2025-01-22T11:39:54.518041Z"
    },
    "papermill": {
     "duration": 0.036588,
     "end_time": "2025-01-22T11:39:54.520861",
     "exception": false,
     "start_time": "2025-01-22T11:39:54.484273",
     "status": "completed"
    },
    "tags": []
   },
   "outputs": [],
   "source": [
    "Reviews_dict = pd.read_csv(r\"/kaggle/input/airbnb-listings-reviews/Airbnb Data/Reviews_data_dictionary.csv\")"
   ]
  },
  {
   "cell_type": "markdown",
   "id": "f9b0640d",
   "metadata": {
    "papermill": {
     "duration": 0.013299,
     "end_time": "2025-01-22T11:39:54.547889",
     "exception": false,
     "start_time": "2025-01-22T11:39:54.534590",
     "status": "completed"
    },
    "tags": []
   },
   "source": [
    "## **EXPLORING DATA COLUMNS**"
   ]
  },
  {
   "cell_type": "code",
   "execution_count": 3,
   "id": "04aaf6cc",
   "metadata": {
    "execution": {
     "iopub.execute_input": "2025-01-22T11:39:54.576144Z",
     "iopub.status.busy": "2025-01-22T11:39:54.575663Z",
     "iopub.status.idle": "2025-01-22T11:39:54.594046Z",
     "shell.execute_reply": "2025-01-22T11:39:54.592782Z"
    },
    "papermill": {
     "duration": 0.035046,
     "end_time": "2025-01-22T11:39:54.596314",
     "exception": false,
     "start_time": "2025-01-22T11:39:54.561268",
     "status": "completed"
    },
    "tags": []
   },
   "outputs": [
    {
     "data": {
      "text/html": [
       "<div>\n",
       "<style scoped>\n",
       "    .dataframe tbody tr th:only-of-type {\n",
       "        vertical-align: middle;\n",
       "    }\n",
       "\n",
       "    .dataframe tbody tr th {\n",
       "        vertical-align: top;\n",
       "    }\n",
       "\n",
       "    .dataframe thead th {\n",
       "        text-align: right;\n",
       "    }\n",
       "</style>\n",
       "<table border=\"1\" class=\"dataframe\">\n",
       "  <thead>\n",
       "    <tr style=\"text-align: right;\">\n",
       "      <th></th>\n",
       "      <th>Field</th>\n",
       "      <th>Description</th>\n",
       "    </tr>\n",
       "  </thead>\n",
       "  <tbody>\n",
       "    <tr>\n",
       "      <th>0</th>\n",
       "      <td>listing_id</td>\n",
       "      <td>Listing ID</td>\n",
       "    </tr>\n",
       "    <tr>\n",
       "      <th>1</th>\n",
       "      <td>review_id</td>\n",
       "      <td>Review ID</td>\n",
       "    </tr>\n",
       "    <tr>\n",
       "      <th>2</th>\n",
       "      <td>date</td>\n",
       "      <td>Review date</td>\n",
       "    </tr>\n",
       "    <tr>\n",
       "      <th>3</th>\n",
       "      <td>reviewer_id</td>\n",
       "      <td>Reviewer ID</td>\n",
       "    </tr>\n",
       "  </tbody>\n",
       "</table>\n",
       "</div>"
      ],
      "text/plain": [
       "         Field  Description\n",
       "0   listing_id   Listing ID\n",
       "1    review_id    Review ID\n",
       "2         date  Review date\n",
       "3  reviewer_id  Reviewer ID"
      ]
     },
     "execution_count": 3,
     "metadata": {},
     "output_type": "execute_result"
    }
   ],
   "source": [
    "Reviews_dict "
   ]
  },
  {
   "cell_type": "markdown",
   "id": "3196c9fe",
   "metadata": {
    "papermill": {
     "duration": 0.013615,
     "end_time": "2025-01-22T11:39:54.624197",
     "exception": false,
     "start_time": "2025-01-22T11:39:54.610582",
     "status": "completed"
    },
    "tags": []
   },
   "source": [
    "## **Code loads the Airbnb Listings data dictionary from a CSV file** "
   ]
  },
  {
   "cell_type": "code",
   "execution_count": 4,
   "id": "d2b2c3e3",
   "metadata": {
    "execution": {
     "iopub.execute_input": "2025-01-22T11:39:54.652581Z",
     "iopub.status.busy": "2025-01-22T11:39:54.652215Z",
     "iopub.status.idle": "2025-01-22T11:39:54.663437Z",
     "shell.execute_reply": "2025-01-22T11:39:54.662250Z"
    },
    "papermill": {
     "duration": 0.027778,
     "end_time": "2025-01-22T11:39:54.665522",
     "exception": false,
     "start_time": "2025-01-22T11:39:54.637744",
     "status": "completed"
    },
    "tags": []
   },
   "outputs": [],
   "source": [
    "listtings_dict= pd.read_csv(r\"/kaggle/input/airbnb-listings-reviews/Airbnb Data/Listings_data_dictionary.csv\")"
   ]
  },
  {
   "cell_type": "markdown",
   "id": "af7c8915",
   "metadata": {
    "papermill": {
     "duration": 0.013414,
     "end_time": "2025-01-22T11:39:54.693182",
     "exception": false,
     "start_time": "2025-01-22T11:39:54.679768",
     "status": "completed"
    },
    "tags": []
   },
   "source": [
    "## **DATA DESCRIPTION**"
   ]
  },
  {
   "cell_type": "markdown",
   "id": "6e55f8d6",
   "metadata": {
    "papermill": {
     "duration": 0.01371,
     "end_time": "2025-01-22T11:39:54.720529",
     "exception": false,
     "start_time": "2025-01-22T11:39:54.706819",
     "status": "completed"
    },
    "tags": []
   },
   "source": [
    "## **EXPLORING DATA COLUMNS**"
   ]
  },
  {
   "cell_type": "code",
   "execution_count": 5,
   "id": "9a0dd3fc",
   "metadata": {
    "execution": {
     "iopub.execute_input": "2025-01-22T11:39:54.750579Z",
     "iopub.status.busy": "2025-01-22T11:39:54.750239Z",
     "iopub.status.idle": "2025-01-22T11:39:54.760843Z",
     "shell.execute_reply": "2025-01-22T11:39:54.759778Z"
    },
    "papermill": {
     "duration": 0.027455,
     "end_time": "2025-01-22T11:39:54.762621",
     "exception": false,
     "start_time": "2025-01-22T11:39:54.735166",
     "status": "completed"
    },
    "tags": []
   },
   "outputs": [
    {
     "data": {
      "text/html": [
       "<div>\n",
       "<style scoped>\n",
       "    .dataframe tbody tr th:only-of-type {\n",
       "        vertical-align: middle;\n",
       "    }\n",
       "\n",
       "    .dataframe tbody tr th {\n",
       "        vertical-align: top;\n",
       "    }\n",
       "\n",
       "    .dataframe thead th {\n",
       "        text-align: right;\n",
       "    }\n",
       "</style>\n",
       "<table border=\"1\" class=\"dataframe\">\n",
       "  <thead>\n",
       "    <tr style=\"text-align: right;\">\n",
       "      <th></th>\n",
       "      <th>Field</th>\n",
       "      <th>Description</th>\n",
       "    </tr>\n",
       "  </thead>\n",
       "  <tbody>\n",
       "    <tr>\n",
       "      <th>0</th>\n",
       "      <td>listing_id</td>\n",
       "      <td>Listing ID</td>\n",
       "    </tr>\n",
       "    <tr>\n",
       "      <th>1</th>\n",
       "      <td>name</td>\n",
       "      <td>Listing Name</td>\n",
       "    </tr>\n",
       "    <tr>\n",
       "      <th>2</th>\n",
       "      <td>host_id</td>\n",
       "      <td>Host ID</td>\n",
       "    </tr>\n",
       "    <tr>\n",
       "      <th>3</th>\n",
       "      <td>host_since</td>\n",
       "      <td>Date the Host joined Airbnb</td>\n",
       "    </tr>\n",
       "    <tr>\n",
       "      <th>4</th>\n",
       "      <td>host_location</td>\n",
       "      <td>Location where the Host is based</td>\n",
       "    </tr>\n",
       "    <tr>\n",
       "      <th>5</th>\n",
       "      <td>host_response_time</td>\n",
       "      <td>Estimate of how long the Host takes to respond</td>\n",
       "    </tr>\n",
       "    <tr>\n",
       "      <th>6</th>\n",
       "      <td>host_response_rate</td>\n",
       "      <td>Percentage of times the Host responds</td>\n",
       "    </tr>\n",
       "    <tr>\n",
       "      <th>7</th>\n",
       "      <td>host_acceptance_rate</td>\n",
       "      <td>Percentage of times the Host accepts a booking...</td>\n",
       "    </tr>\n",
       "    <tr>\n",
       "      <th>8</th>\n",
       "      <td>host_is_superhost</td>\n",
       "      <td>Binary field to determine if the Host is a Sup...</td>\n",
       "    </tr>\n",
       "    <tr>\n",
       "      <th>9</th>\n",
       "      <td>host_total_listings_count</td>\n",
       "      <td>Total listings the Host has in Airbnb</td>\n",
       "    </tr>\n",
       "    <tr>\n",
       "      <th>10</th>\n",
       "      <td>host_has_profile_pic</td>\n",
       "      <td>Binary field to determine if the Host has a pr...</td>\n",
       "    </tr>\n",
       "    <tr>\n",
       "      <th>11</th>\n",
       "      <td>host_identity_verified</td>\n",
       "      <td>Binary field to determine if the Host has a ve...</td>\n",
       "    </tr>\n",
       "    <tr>\n",
       "      <th>12</th>\n",
       "      <td>neighbourhood</td>\n",
       "      <td>Neighborhood the Listing is in</td>\n",
       "    </tr>\n",
       "    <tr>\n",
       "      <th>13</th>\n",
       "      <td>district</td>\n",
       "      <td>District the Listing is in</td>\n",
       "    </tr>\n",
       "    <tr>\n",
       "      <th>14</th>\n",
       "      <td>city</td>\n",
       "      <td>City the Listing is in</td>\n",
       "    </tr>\n",
       "    <tr>\n",
       "      <th>15</th>\n",
       "      <td>latitude</td>\n",
       "      <td>Listing's latitude</td>\n",
       "    </tr>\n",
       "    <tr>\n",
       "      <th>16</th>\n",
       "      <td>longitude</td>\n",
       "      <td>Listing's longitude</td>\n",
       "    </tr>\n",
       "    <tr>\n",
       "      <th>17</th>\n",
       "      <td>property_type</td>\n",
       "      <td>Type of property for the Listing</td>\n",
       "    </tr>\n",
       "    <tr>\n",
       "      <th>18</th>\n",
       "      <td>room_type</td>\n",
       "      <td>Type of room type in Airbnb for the Listing</td>\n",
       "    </tr>\n",
       "    <tr>\n",
       "      <th>19</th>\n",
       "      <td>accommodates</td>\n",
       "      <td>Guests the Listing accomodates</td>\n",
       "    </tr>\n",
       "    <tr>\n",
       "      <th>20</th>\n",
       "      <td>bedrooms</td>\n",
       "      <td>Bedrooms in the Listing</td>\n",
       "    </tr>\n",
       "    <tr>\n",
       "      <th>21</th>\n",
       "      <td>amenities</td>\n",
       "      <td>Amenities the Listing includes</td>\n",
       "    </tr>\n",
       "    <tr>\n",
       "      <th>22</th>\n",
       "      <td>price</td>\n",
       "      <td>Listing price (in each country's currency)</td>\n",
       "    </tr>\n",
       "    <tr>\n",
       "      <th>23</th>\n",
       "      <td>minimum_nights</td>\n",
       "      <td>Minimum nights per booking</td>\n",
       "    </tr>\n",
       "    <tr>\n",
       "      <th>24</th>\n",
       "      <td>maximum_nights</td>\n",
       "      <td>Maximum nights per booking</td>\n",
       "    </tr>\n",
       "    <tr>\n",
       "      <th>25</th>\n",
       "      <td>review_scores_rating</td>\n",
       "      <td>Listing's overall rating (out of 100)</td>\n",
       "    </tr>\n",
       "    <tr>\n",
       "      <th>26</th>\n",
       "      <td>review_scores_accuracy</td>\n",
       "      <td>Listing's accuracy score based on what's promo...</td>\n",
       "    </tr>\n",
       "    <tr>\n",
       "      <th>27</th>\n",
       "      <td>review_scores_cleanliness</td>\n",
       "      <td>Listing's cleanliness score (out of 10)</td>\n",
       "    </tr>\n",
       "    <tr>\n",
       "      <th>28</th>\n",
       "      <td>review_scores_checkin</td>\n",
       "      <td>Listing's check-in experience score (out of 10)</td>\n",
       "    </tr>\n",
       "    <tr>\n",
       "      <th>29</th>\n",
       "      <td>review_scores_communication</td>\n",
       "      <td>Listing's communication with the Host score (o...</td>\n",
       "    </tr>\n",
       "    <tr>\n",
       "      <th>30</th>\n",
       "      <td>review_scores_location</td>\n",
       "      <td>Listing's location score within the city (out ...</td>\n",
       "    </tr>\n",
       "    <tr>\n",
       "      <th>31</th>\n",
       "      <td>review_scores_value</td>\n",
       "      <td>Listing's value score relative to its price (o...</td>\n",
       "    </tr>\n",
       "    <tr>\n",
       "      <th>32</th>\n",
       "      <td>instant_bookable</td>\n",
       "      <td>Binary field to determine if the Listing can b...</td>\n",
       "    </tr>\n",
       "  </tbody>\n",
       "</table>\n",
       "</div>"
      ],
      "text/plain": [
       "                          Field  \\\n",
       "0                    listing_id   \n",
       "1                          name   \n",
       "2                       host_id   \n",
       "3                    host_since   \n",
       "4                 host_location   \n",
       "5            host_response_time   \n",
       "6            host_response_rate   \n",
       "7          host_acceptance_rate   \n",
       "8             host_is_superhost   \n",
       "9     host_total_listings_count   \n",
       "10         host_has_profile_pic   \n",
       "11       host_identity_verified   \n",
       "12                neighbourhood   \n",
       "13                     district   \n",
       "14                         city   \n",
       "15                     latitude   \n",
       "16                    longitude   \n",
       "17                property_type   \n",
       "18                    room_type   \n",
       "19                 accommodates   \n",
       "20                     bedrooms   \n",
       "21                    amenities   \n",
       "22                        price   \n",
       "23               minimum_nights   \n",
       "24               maximum_nights   \n",
       "25         review_scores_rating   \n",
       "26       review_scores_accuracy   \n",
       "27    review_scores_cleanliness   \n",
       "28        review_scores_checkin   \n",
       "29  review_scores_communication   \n",
       "30       review_scores_location   \n",
       "31          review_scores_value   \n",
       "32             instant_bookable   \n",
       "\n",
       "                                          Description  \n",
       "0                                          Listing ID  \n",
       "1                                        Listing Name  \n",
       "2                                             Host ID  \n",
       "3                         Date the Host joined Airbnb  \n",
       "4                    Location where the Host is based  \n",
       "5      Estimate of how long the Host takes to respond  \n",
       "6               Percentage of times the Host responds  \n",
       "7   Percentage of times the Host accepts a booking...  \n",
       "8   Binary field to determine if the Host is a Sup...  \n",
       "9               Total listings the Host has in Airbnb  \n",
       "10  Binary field to determine if the Host has a pr...  \n",
       "11  Binary field to determine if the Host has a ve...  \n",
       "12                     Neighborhood the Listing is in  \n",
       "13                         District the Listing is in  \n",
       "14                             City the Listing is in  \n",
       "15                                 Listing's latitude  \n",
       "16                                Listing's longitude  \n",
       "17                   Type of property for the Listing  \n",
       "18        Type of room type in Airbnb for the Listing  \n",
       "19                     Guests the Listing accomodates  \n",
       "20                            Bedrooms in the Listing  \n",
       "21                     Amenities the Listing includes  \n",
       "22         Listing price (in each country's currency)  \n",
       "23                         Minimum nights per booking  \n",
       "24                         Maximum nights per booking  \n",
       "25              Listing's overall rating (out of 100)  \n",
       "26  Listing's accuracy score based on what's promo...  \n",
       "27            Listing's cleanliness score (out of 10)  \n",
       "28    Listing's check-in experience score (out of 10)  \n",
       "29  Listing's communication with the Host score (o...  \n",
       "30  Listing's location score within the city (out ...  \n",
       "31  Listing's value score relative to its price (o...  \n",
       "32  Binary field to determine if the Listing can b...  "
      ]
     },
     "execution_count": 5,
     "metadata": {},
     "output_type": "execute_result"
    }
   ],
   "source": [
    "listtings_dict      "
   ]
  },
  {
   "cell_type": "markdown",
   "id": "dec9dfb0",
   "metadata": {
    "papermill": {
     "duration": 0.013735,
     "end_time": "2025-01-22T11:39:54.791107",
     "exception": false,
     "start_time": "2025-01-22T11:39:54.777372",
     "status": "completed"
    },
    "tags": []
   },
   "source": [
    " ## **Loads Airbnb Reviews Data From a CSV File**"
   ]
  },
  {
   "cell_type": "code",
   "execution_count": 6,
   "id": "94c729c0",
   "metadata": {
    "execution": {
     "iopub.execute_input": "2025-01-22T11:39:54.821513Z",
     "iopub.status.busy": "2025-01-22T11:39:54.821139Z",
     "iopub.status.idle": "2025-01-22T11:40:00.651835Z",
     "shell.execute_reply": "2025-01-22T11:40:00.650471Z"
    },
    "papermill": {
     "duration": 5.848687,
     "end_time": "2025-01-22T11:40:00.654039",
     "exception": false,
     "start_time": "2025-01-22T11:39:54.805352",
     "status": "completed"
    },
    "tags": []
   },
   "outputs": [],
   "source": [
    "reviews = pd.read_csv(r\"/kaggle/input/airbnb-listings-reviews/Airbnb Data/Reviews.csv\")"
   ]
  },
  {
   "cell_type": "markdown",
   "id": "8f2958a1",
   "metadata": {
    "papermill": {
     "duration": 0.013855,
     "end_time": "2025-01-22T11:40:00.682855",
     "exception": false,
     "start_time": "2025-01-22T11:40:00.669000",
     "status": "completed"
    },
    "tags": []
   },
   "source": [
    "## **Displays the first five rows of the DataFrame**"
   ]
  },
  {
   "cell_type": "code",
   "execution_count": 7,
   "id": "a3b48523",
   "metadata": {
    "execution": {
     "iopub.execute_input": "2025-01-22T11:40:00.712660Z",
     "iopub.status.busy": "2025-01-22T11:40:00.712268Z",
     "iopub.status.idle": "2025-01-22T11:40:00.722331Z",
     "shell.execute_reply": "2025-01-22T11:40:00.721228Z"
    },
    "papermill": {
     "duration": 0.02707,
     "end_time": "2025-01-22T11:40:00.724076",
     "exception": false,
     "start_time": "2025-01-22T11:40:00.697006",
     "status": "completed"
    },
    "tags": []
   },
   "outputs": [
    {
     "data": {
      "text/html": [
       "<div>\n",
       "<style scoped>\n",
       "    .dataframe tbody tr th:only-of-type {\n",
       "        vertical-align: middle;\n",
       "    }\n",
       "\n",
       "    .dataframe tbody tr th {\n",
       "        vertical-align: top;\n",
       "    }\n",
       "\n",
       "    .dataframe thead th {\n",
       "        text-align: right;\n",
       "    }\n",
       "</style>\n",
       "<table border=\"1\" class=\"dataframe\">\n",
       "  <thead>\n",
       "    <tr style=\"text-align: right;\">\n",
       "      <th></th>\n",
       "      <th>listing_id</th>\n",
       "      <th>review_id</th>\n",
       "      <th>date</th>\n",
       "      <th>reviewer_id</th>\n",
       "    </tr>\n",
       "  </thead>\n",
       "  <tbody>\n",
       "    <tr>\n",
       "      <th>0</th>\n",
       "      <td>11798</td>\n",
       "      <td>330265172</td>\n",
       "      <td>2018-09-30</td>\n",
       "      <td>11863072</td>\n",
       "    </tr>\n",
       "    <tr>\n",
       "      <th>1</th>\n",
       "      <td>15383</td>\n",
       "      <td>330103585</td>\n",
       "      <td>2018-09-30</td>\n",
       "      <td>39147453</td>\n",
       "    </tr>\n",
       "    <tr>\n",
       "      <th>2</th>\n",
       "      <td>16455</td>\n",
       "      <td>329985788</td>\n",
       "      <td>2018-09-30</td>\n",
       "      <td>1125378</td>\n",
       "    </tr>\n",
       "    <tr>\n",
       "      <th>3</th>\n",
       "      <td>17919</td>\n",
       "      <td>330016899</td>\n",
       "      <td>2018-09-30</td>\n",
       "      <td>172717984</td>\n",
       "    </tr>\n",
       "    <tr>\n",
       "      <th>4</th>\n",
       "      <td>26827</td>\n",
       "      <td>329995638</td>\n",
       "      <td>2018-09-30</td>\n",
       "      <td>17542859</td>\n",
       "    </tr>\n",
       "  </tbody>\n",
       "</table>\n",
       "</div>"
      ],
      "text/plain": [
       "   listing_id  review_id        date  reviewer_id\n",
       "0       11798  330265172  2018-09-30     11863072\n",
       "1       15383  330103585  2018-09-30     39147453\n",
       "2       16455  329985788  2018-09-30      1125378\n",
       "3       17919  330016899  2018-09-30    172717984\n",
       "4       26827  329995638  2018-09-30     17542859"
      ]
     },
     "execution_count": 7,
     "metadata": {},
     "output_type": "execute_result"
    }
   ],
   "source": [
    "reviews.head()"
   ]
  },
  {
   "cell_type": "markdown",
   "id": "caa5039b",
   "metadata": {
    "papermill": {
     "duration": 0.014231,
     "end_time": "2025-01-22T11:40:00.753243",
     "exception": false,
     "start_time": "2025-01-22T11:40:00.739012",
     "status": "completed"
    },
    "tags": []
   },
   "source": [
    "## **Code loads Airbnb listings data from a CSV file**"
   ]
  },
  {
   "cell_type": "code",
   "execution_count": 8,
   "id": "1fb7c6c4",
   "metadata": {
    "execution": {
     "iopub.execute_input": "2025-01-22T11:40:00.784018Z",
     "iopub.status.busy": "2025-01-22T11:40:00.783483Z",
     "iopub.status.idle": "2025-01-22T11:40:06.309012Z",
     "shell.execute_reply": "2025-01-22T11:40:06.307907Z"
    },
    "papermill": {
     "duration": 5.543046,
     "end_time": "2025-01-22T11:40:06.310873",
     "exception": false,
     "start_time": "2025-01-22T11:40:00.767827",
     "status": "completed"
    },
    "tags": []
   },
   "outputs": [],
   "source": [
    "listings = pd.read_csv(r\"/kaggle/input/airbnb-listings-reviews/Airbnb Data/Listings.csv\",encoding = \"ISO-8859-1\",low_memory=False)"
   ]
  },
  {
   "cell_type": "markdown",
   "id": "464f9877",
   "metadata": {
    "papermill": {
     "duration": 0.01491,
     "end_time": "2025-01-22T11:40:06.341653",
     "exception": false,
     "start_time": "2025-01-22T11:40:06.326743",
     "status": "completed"
    },
    "tags": []
   },
   "source": [
    "## **Displays the first five rows of the DataFrame**"
   ]
  },
  {
   "cell_type": "code",
   "execution_count": 9,
   "id": "dff191fb",
   "metadata": {
    "execution": {
     "iopub.execute_input": "2025-01-22T11:40:06.371908Z",
     "iopub.status.busy": "2025-01-22T11:40:06.371520Z",
     "iopub.status.idle": "2025-01-22T11:40:06.403701Z",
     "shell.execute_reply": "2025-01-22T11:40:06.402589Z"
    },
    "papermill": {
     "duration": 0.049361,
     "end_time": "2025-01-22T11:40:06.405528",
     "exception": false,
     "start_time": "2025-01-22T11:40:06.356167",
     "status": "completed"
    },
    "tags": []
   },
   "outputs": [
    {
     "data": {
      "text/html": [
       "<div>\n",
       "<style scoped>\n",
       "    .dataframe tbody tr th:only-of-type {\n",
       "        vertical-align: middle;\n",
       "    }\n",
       "\n",
       "    .dataframe tbody tr th {\n",
       "        vertical-align: top;\n",
       "    }\n",
       "\n",
       "    .dataframe thead th {\n",
       "        text-align: right;\n",
       "    }\n",
       "</style>\n",
       "<table border=\"1\" class=\"dataframe\">\n",
       "  <thead>\n",
       "    <tr style=\"text-align: right;\">\n",
       "      <th></th>\n",
       "      <th>listing_id</th>\n",
       "      <th>name</th>\n",
       "      <th>host_id</th>\n",
       "      <th>host_since</th>\n",
       "      <th>host_location</th>\n",
       "      <th>host_response_time</th>\n",
       "      <th>host_response_rate</th>\n",
       "      <th>host_acceptance_rate</th>\n",
       "      <th>host_is_superhost</th>\n",
       "      <th>host_total_listings_count</th>\n",
       "      <th>...</th>\n",
       "      <th>minimum_nights</th>\n",
       "      <th>maximum_nights</th>\n",
       "      <th>review_scores_rating</th>\n",
       "      <th>review_scores_accuracy</th>\n",
       "      <th>review_scores_cleanliness</th>\n",
       "      <th>review_scores_checkin</th>\n",
       "      <th>review_scores_communication</th>\n",
       "      <th>review_scores_location</th>\n",
       "      <th>review_scores_value</th>\n",
       "      <th>instant_bookable</th>\n",
       "    </tr>\n",
       "  </thead>\n",
       "  <tbody>\n",
       "    <tr>\n",
       "      <th>0</th>\n",
       "      <td>281420</td>\n",
       "      <td>Beautiful Flat in le Village Montmartre, Paris</td>\n",
       "      <td>1466919</td>\n",
       "      <td>2011-12-03</td>\n",
       "      <td>Paris, Ile-de-France, France</td>\n",
       "      <td>NaN</td>\n",
       "      <td>NaN</td>\n",
       "      <td>NaN</td>\n",
       "      <td>f</td>\n",
       "      <td>1.0</td>\n",
       "      <td>...</td>\n",
       "      <td>2</td>\n",
       "      <td>1125</td>\n",
       "      <td>100.0</td>\n",
       "      <td>10.0</td>\n",
       "      <td>10.0</td>\n",
       "      <td>10.0</td>\n",
       "      <td>10.0</td>\n",
       "      <td>10.0</td>\n",
       "      <td>10.0</td>\n",
       "      <td>f</td>\n",
       "    </tr>\n",
       "    <tr>\n",
       "      <th>1</th>\n",
       "      <td>3705183</td>\n",
       "      <td>39 mÃÂ² Paris (Sacre CÃ",
       "âur)</td>\n",
       "      <td>10328771</td>\n",
       "      <td>2013-11-29</td>\n",
       "      <td>Paris, Ile-de-France, France</td>\n",
       "      <td>NaN</td>\n",
       "      <td>NaN</td>\n",
       "      <td>NaN</td>\n",
       "      <td>f</td>\n",
       "      <td>1.0</td>\n",
       "      <td>...</td>\n",
       "      <td>2</td>\n",
       "      <td>1125</td>\n",
       "      <td>100.0</td>\n",
       "      <td>10.0</td>\n",
       "      <td>10.0</td>\n",
       "      <td>10.0</td>\n",
       "      <td>10.0</td>\n",
       "      <td>10.0</td>\n",
       "      <td>10.0</td>\n",
       "      <td>f</td>\n",
       "    </tr>\n",
       "    <tr>\n",
       "      <th>2</th>\n",
       "      <td>4082273</td>\n",
       "      <td>Lovely apartment with Terrace, 60m2</td>\n",
       "      <td>19252768</td>\n",
       "      <td>2014-07-31</td>\n",
       "      <td>Paris, Ile-de-France, France</td>\n",
       "      <td>NaN</td>\n",
       "      <td>NaN</td>\n",
       "      <td>NaN</td>\n",
       "      <td>f</td>\n",
       "      <td>1.0</td>\n",
       "      <td>...</td>\n",
       "      <td>2</td>\n",
       "      <td>1125</td>\n",
       "      <td>100.0</td>\n",
       "      <td>10.0</td>\n",
       "      <td>10.0</td>\n",
       "      <td>10.0</td>\n",
       "      <td>10.0</td>\n",
       "      <td>10.0</td>\n",
       "      <td>10.0</td>\n",
       "      <td>f</td>\n",
       "    </tr>\n",
       "    <tr>\n",
       "      <th>3</th>\n",
       "      <td>4797344</td>\n",
       "      <td>Cosy studio (close to Eiffel tower)</td>\n",
       "      <td>10668311</td>\n",
       "      <td>2013-12-17</td>\n",
       "      <td>Paris, Ile-de-France, France</td>\n",
       "      <td>NaN</td>\n",
       "      <td>NaN</td>\n",
       "      <td>NaN</td>\n",
       "      <td>f</td>\n",
       "      <td>1.0</td>\n",
       "      <td>...</td>\n",
       "      <td>2</td>\n",
       "      <td>1125</td>\n",
       "      <td>100.0</td>\n",
       "      <td>10.0</td>\n",
       "      <td>10.0</td>\n",
       "      <td>10.0</td>\n",
       "      <td>10.0</td>\n",
       "      <td>10.0</td>\n",
       "      <td>10.0</td>\n",
       "      <td>f</td>\n",
       "    </tr>\n",
       "    <tr>\n",
       "      <th>4</th>\n",
       "      <td>4823489</td>\n",
       "      <td>Close to Eiffel Tower - Beautiful flat : 2 rooms</td>\n",
       "      <td>24837558</td>\n",
       "      <td>2014-12-14</td>\n",
       "      <td>Paris, Ile-de-France, France</td>\n",
       "      <td>NaN</td>\n",
       "      <td>NaN</td>\n",
       "      <td>NaN</td>\n",
       "      <td>f</td>\n",
       "      <td>1.0</td>\n",
       "      <td>...</td>\n",
       "      <td>2</td>\n",
       "      <td>1125</td>\n",
       "      <td>100.0</td>\n",
       "      <td>10.0</td>\n",
       "      <td>10.0</td>\n",
       "      <td>10.0</td>\n",
       "      <td>10.0</td>\n",
       "      <td>10.0</td>\n",
       "      <td>10.0</td>\n",
       "      <td>f</td>\n",
       "    </tr>\n",
       "  </tbody>\n",
       "</table>\n",
       "<p>5 rows × 33 columns</p>\n",
       "</div>"
      ],
      "text/plain": [
       "   listing_id                                              name   host_id  \\\n",
       "0      281420    Beautiful Flat in le Village Montmartre, Paris   1466919   \n",
       "1     3705183                   39 mÃÂ² Paris (Sacre CÃ\n",
       "âur)  10328771   \n",
       "2     4082273               Lovely apartment with Terrace, 60m2  19252768   \n",
       "3     4797344               Cosy studio (close to Eiffel tower)  10668311   \n",
       "4     4823489  Close to Eiffel Tower - Beautiful flat : 2 rooms  24837558   \n",
       "\n",
       "   host_since                 host_location host_response_time  \\\n",
       "0  2011-12-03  Paris, Ile-de-France, France                NaN   \n",
       "1  2013-11-29  Paris, Ile-de-France, France                NaN   \n",
       "2  2014-07-31  Paris, Ile-de-France, France                NaN   \n",
       "3  2013-12-17  Paris, Ile-de-France, France                NaN   \n",
       "4  2014-12-14  Paris, Ile-de-France, France                NaN   \n",
       "\n",
       "   host_response_rate  host_acceptance_rate host_is_superhost  \\\n",
       "0                 NaN                   NaN                 f   \n",
       "1                 NaN                   NaN                 f   \n",
       "2                 NaN                   NaN                 f   \n",
       "3                 NaN                   NaN                 f   \n",
       "4                 NaN                   NaN                 f   \n",
       "\n",
       "   host_total_listings_count  ... minimum_nights maximum_nights  \\\n",
       "0                        1.0  ...              2           1125   \n",
       "1                        1.0  ...              2           1125   \n",
       "2                        1.0  ...              2           1125   \n",
       "3                        1.0  ...              2           1125   \n",
       "4                        1.0  ...              2           1125   \n",
       "\n",
       "  review_scores_rating review_scores_accuracy review_scores_cleanliness  \\\n",
       "0                100.0                   10.0                      10.0   \n",
       "1                100.0                   10.0                      10.0   \n",
       "2                100.0                   10.0                      10.0   \n",
       "3                100.0                   10.0                      10.0   \n",
       "4                100.0                   10.0                      10.0   \n",
       "\n",
       "   review_scores_checkin  review_scores_communication review_scores_location  \\\n",
       "0                   10.0                         10.0                   10.0   \n",
       "1                   10.0                         10.0                   10.0   \n",
       "2                   10.0                         10.0                   10.0   \n",
       "3                   10.0                         10.0                   10.0   \n",
       "4                   10.0                         10.0                   10.0   \n",
       "\n",
       "  review_scores_value  instant_bookable  \n",
       "0                10.0                 f  \n",
       "1                10.0                 f  \n",
       "2                10.0                 f  \n",
       "3                10.0                 f  \n",
       "4                10.0                 f  \n",
       "\n",
       "[5 rows x 33 columns]"
      ]
     },
     "execution_count": 9,
     "metadata": {},
     "output_type": "execute_result"
    }
   ],
   "source": [
    "listings.head()"
   ]
  },
  {
   "cell_type": "markdown",
   "id": "b60c8621",
   "metadata": {
    "papermill": {
     "duration": 0.014302,
     "end_time": "2025-01-22T11:40:06.434894",
     "exception": false,
     "start_time": "2025-01-22T11:40:06.420592",
     "status": "completed"
    },
    "tags": []
   },
   "source": [
    "## **Converting st rings into date**"
   ]
  },
  {
   "cell_type": "code",
   "execution_count": 10,
   "id": "cd9f1179",
   "metadata": {
    "execution": {
     "iopub.execute_input": "2025-01-22T11:40:06.465167Z",
     "iopub.status.busy": "2025-01-22T11:40:06.464704Z",
     "iopub.status.idle": "2025-01-22T11:40:06.534517Z",
     "shell.execute_reply": "2025-01-22T11:40:06.533402Z"
    },
    "papermill": {
     "duration": 0.087259,
     "end_time": "2025-01-22T11:40:06.536589",
     "exception": false,
     "start_time": "2025-01-22T11:40:06.449330",
     "status": "completed"
    },
    "tags": []
   },
   "outputs": [],
   "source": [
    "listings[\"host_since\"] = pd.to_datetime(listings[\"host_since\"])    "
   ]
  },
  {
   "cell_type": "markdown",
   "id": "3141cf9d",
   "metadata": {
    "papermill": {
     "duration": 0.014566,
     "end_time": "2025-01-22T11:40:06.566193",
     "exception": false,
     "start_time": "2025-01-22T11:40:06.551627",
     "status": "completed"
    },
    "tags": []
   },
   "source": [
    "## **Information About The Dataset :**"
   ]
  },
  {
   "cell_type": "code",
   "execution_count": 11,
   "id": "239e8a6d",
   "metadata": {
    "execution": {
     "iopub.execute_input": "2025-01-22T11:40:06.597135Z",
     "iopub.status.busy": "2025-01-22T11:40:06.596743Z",
     "iopub.status.idle": "2025-01-22T11:40:06.809224Z",
     "shell.execute_reply": "2025-01-22T11:40:06.808043Z"
    },
    "papermill": {
     "duration": 0.230484,
     "end_time": "2025-01-22T11:40:06.811388",
     "exception": false,
     "start_time": "2025-01-22T11:40:06.580904",
     "status": "completed"
    },
    "tags": []
   },
   "outputs": [
    {
     "name": "stdout",
     "output_type": "stream",
     "text": [
      "<class 'pandas.core.frame.DataFrame'>\n",
      "RangeIndex: 279712 entries, 0 to 279711\n",
      "Data columns (total 33 columns):\n",
      " #   Column                       Non-Null Count   Dtype         \n",
      "---  ------                       --------------   -----         \n",
      " 0   listing_id                   279712 non-null  int64         \n",
      " 1   name                         279537 non-null  object        \n",
      " 2   host_id                      279712 non-null  int64         \n",
      " 3   host_since                   279547 non-null  datetime64[ns]\n",
      " 4   host_location                278872 non-null  object        \n",
      " 5   host_response_time           150930 non-null  object        \n",
      " 6   host_response_rate           150930 non-null  float64       \n",
      " 7   host_acceptance_rate         166625 non-null  float64       \n",
      " 8   host_is_superhost            279547 non-null  object        \n",
      " 9   host_total_listings_count    279547 non-null  float64       \n",
      " 10  host_has_profile_pic         279547 non-null  object        \n",
      " 11  host_identity_verified       279547 non-null  object        \n",
      " 12  neighbourhood                279712 non-null  object        \n",
      " 13  district                     37012 non-null   object        \n",
      " 14  city                         279712 non-null  object        \n",
      " 15  latitude                     279712 non-null  float64       \n",
      " 16  longitude                    279712 non-null  float64       \n",
      " 17  property_type                279712 non-null  object        \n",
      " 18  room_type                    279712 non-null  object        \n",
      " 19  accommodates                 279712 non-null  int64         \n",
      " 20  bedrooms                     250277 non-null  float64       \n",
      " 21  amenities                    279712 non-null  object        \n",
      " 22  price                        279712 non-null  int64         \n",
      " 23  minimum_nights               279712 non-null  int64         \n",
      " 24  maximum_nights               279712 non-null  int64         \n",
      " 25  review_scores_rating         188307 non-null  float64       \n",
      " 26  review_scores_accuracy       187999 non-null  float64       \n",
      " 27  review_scores_cleanliness    188047 non-null  float64       \n",
      " 28  review_scores_checkin        187941 non-null  float64       \n",
      " 29  review_scores_communication  188025 non-null  float64       \n",
      " 30  review_scores_location       187937 non-null  float64       \n",
      " 31  review_scores_value          187927 non-null  float64       \n",
      " 32  instant_bookable             279712 non-null  object        \n",
      "dtypes: datetime64[ns](1), float64(13), int64(6), object(13)\n",
      "memory usage: 70.4+ MB\n"
     ]
    }
   ],
   "source": [
    "listings.info()    # to display a concise summary of a DataFrame"
   ]
  },
  {
   "cell_type": "markdown",
   "id": "2346d191",
   "metadata": {
    "execution": {
     "iopub.execute_input": "2025-01-22T09:53:16.692299Z",
     "iopub.status.busy": "2025-01-22T09:53:16.691968Z",
     "iopub.status.idle": "2025-01-22T09:53:16.698931Z",
     "shell.execute_reply": "2025-01-22T09:53:16.697560Z",
     "shell.execute_reply.started": "2025-01-22T09:53:16.692277Z"
    },
    "papermill": {
     "duration": 0.014794,
     "end_time": "2025-01-22T11:40:06.841384",
     "exception": false,
     "start_time": "2025-01-22T11:40:06.826590",
     "status": "completed"
    },
    "tags": []
   },
   "source": [
    "# **Paris Data Analysis** "
   ]
  },
  {
   "cell_type": "markdown",
   "id": "daed7ebb",
   "metadata": {
    "papermill": {
     "duration": 0.015122,
     "end_time": "2025-01-22T11:40:06.871550",
     "exception": false,
     "start_time": "2025-01-22T11:40:06.856428",
     "status": "completed"
    },
    "tags": []
   },
   "source": [
    " ## **Columns and Rows Filters :**"
   ]
  },
  {
   "cell_type": "code",
   "execution_count": 12,
   "id": "51823470",
   "metadata": {
    "execution": {
     "iopub.execute_input": "2025-01-22T11:40:06.903085Z",
     "iopub.status.busy": "2025-01-22T11:40:06.902628Z",
     "iopub.status.idle": "2025-01-22T11:40:06.924307Z",
     "shell.execute_reply": "2025-01-22T11:40:06.923278Z"
    },
    "papermill": {
     "duration": 0.039486,
     "end_time": "2025-01-22T11:40:06.925921",
     "exception": false,
     "start_time": "2025-01-22T11:40:06.886435",
     "status": "completed"
    },
    "tags": []
   },
   "outputs": [
    {
     "data": {
      "text/plain": [
       "city\n",
       "Paris             64690\n",
       "New York          37012\n",
       "Sydney            33630\n",
       "Rome              27647\n",
       "Rio de Janeiro    26615\n",
       "Istanbul          24519\n",
       "Mexico City       20065\n",
       "Bangkok           19361\n",
       "Cape Town         19086\n",
       "Hong Kong          7087\n",
       "Name: count, dtype: int64"
      ]
     },
     "execution_count": 12,
     "metadata": {},
     "output_type": "execute_result"
    }
   ],
   "source": [
    "listings[\"city\"].value_counts()"
   ]
  },
  {
   "cell_type": "code",
   "execution_count": 13,
   "id": "e190fe11",
   "metadata": {
    "execution": {
     "iopub.execute_input": "2025-01-22T11:40:06.957898Z",
     "iopub.status.busy": "2025-01-22T11:40:06.957548Z",
     "iopub.status.idle": "2025-01-22T11:40:06.992526Z",
     "shell.execute_reply": "2025-01-22T11:40:06.991514Z"
    },
    "papermill": {
     "duration": 0.052876,
     "end_time": "2025-01-22T11:40:06.994467",
     "exception": false,
     "start_time": "2025-01-22T11:40:06.941591",
     "status": "completed"
    },
    "tags": []
   },
   "outputs": [],
   "source": [
    "paris_listings = listings.query(\"city=='Paris'\")"
   ]
  },
  {
   "cell_type": "code",
   "execution_count": 14,
   "id": "e51a6693",
   "metadata": {
    "execution": {
     "iopub.execute_input": "2025-01-22T11:40:07.026579Z",
     "iopub.status.busy": "2025-01-22T11:40:07.026187Z",
     "iopub.status.idle": "2025-01-22T11:40:07.090114Z",
     "shell.execute_reply": "2025-01-22T11:40:07.088817Z"
    },
    "papermill": {
     "duration": 0.081959,
     "end_time": "2025-01-22T11:40:07.092171",
     "exception": false,
     "start_time": "2025-01-22T11:40:07.010212",
     "status": "completed"
    },
    "tags": []
   },
   "outputs": [
    {
     "data": {
      "text/html": [
       "<div>\n",
       "<style scoped>\n",
       "    .dataframe tbody tr th:only-of-type {\n",
       "        vertical-align: middle;\n",
       "    }\n",
       "\n",
       "    .dataframe tbody tr th {\n",
       "        vertical-align: top;\n",
       "    }\n",
       "\n",
       "    .dataframe thead th {\n",
       "        text-align: right;\n",
       "    }\n",
       "</style>\n",
       "<table border=\"1\" class=\"dataframe\">\n",
       "  <thead>\n",
       "    <tr style=\"text-align: right;\">\n",
       "      <th></th>\n",
       "      <th>listing_id</th>\n",
       "      <th>name</th>\n",
       "      <th>host_id</th>\n",
       "      <th>host_since</th>\n",
       "      <th>host_location</th>\n",
       "      <th>host_response_time</th>\n",
       "      <th>host_response_rate</th>\n",
       "      <th>host_acceptance_rate</th>\n",
       "      <th>host_is_superhost</th>\n",
       "      <th>host_total_listings_count</th>\n",
       "      <th>...</th>\n",
       "      <th>minimum_nights</th>\n",
       "      <th>maximum_nights</th>\n",
       "      <th>review_scores_rating</th>\n",
       "      <th>review_scores_accuracy</th>\n",
       "      <th>review_scores_cleanliness</th>\n",
       "      <th>review_scores_checkin</th>\n",
       "      <th>review_scores_communication</th>\n",
       "      <th>review_scores_location</th>\n",
       "      <th>review_scores_value</th>\n",
       "      <th>instant_bookable</th>\n",
       "    </tr>\n",
       "  </thead>\n",
       "  <tbody>\n",
       "    <tr>\n",
       "      <th>0</th>\n",
       "      <td>281420</td>\n",
       "      <td>Beautiful Flat in le Village Montmartre, Paris</td>\n",
       "      <td>1466919</td>\n",
       "      <td>2011-12-03</td>\n",
       "      <td>Paris, Ile-de-France, France</td>\n",
       "      <td>NaN</td>\n",
       "      <td>NaN</td>\n",
       "      <td>NaN</td>\n",
       "      <td>f</td>\n",
       "      <td>1.0</td>\n",
       "      <td>...</td>\n",
       "      <td>2</td>\n",
       "      <td>1125</td>\n",
       "      <td>100.0</td>\n",
       "      <td>10.0</td>\n",
       "      <td>10.0</td>\n",
       "      <td>10.0</td>\n",
       "      <td>10.0</td>\n",
       "      <td>10.0</td>\n",
       "      <td>10.0</td>\n",
       "      <td>f</td>\n",
       "    </tr>\n",
       "    <tr>\n",
       "      <th>1</th>\n",
       "      <td>3705183</td>\n",
       "      <td>39 mÃÂ² Paris (Sacre CÃ",
       "âur)</td>\n",
       "      <td>10328771</td>\n",
       "      <td>2013-11-29</td>\n",
       "      <td>Paris, Ile-de-France, France</td>\n",
       "      <td>NaN</td>\n",
       "      <td>NaN</td>\n",
       "      <td>NaN</td>\n",
       "      <td>f</td>\n",
       "      <td>1.0</td>\n",
       "      <td>...</td>\n",
       "      <td>2</td>\n",
       "      <td>1125</td>\n",
       "      <td>100.0</td>\n",
       "      <td>10.0</td>\n",
       "      <td>10.0</td>\n",
       "      <td>10.0</td>\n",
       "      <td>10.0</td>\n",
       "      <td>10.0</td>\n",
       "      <td>10.0</td>\n",
       "      <td>f</td>\n",
       "    </tr>\n",
       "    <tr>\n",
       "      <th>2</th>\n",
       "      <td>4082273</td>\n",
       "      <td>Lovely apartment with Terrace, 60m2</td>\n",
       "      <td>19252768</td>\n",
       "      <td>2014-07-31</td>\n",
       "      <td>Paris, Ile-de-France, France</td>\n",
       "      <td>NaN</td>\n",
       "      <td>NaN</td>\n",
       "      <td>NaN</td>\n",
       "      <td>f</td>\n",
       "      <td>1.0</td>\n",
       "      <td>...</td>\n",
       "      <td>2</td>\n",
       "      <td>1125</td>\n",
       "      <td>100.0</td>\n",
       "      <td>10.0</td>\n",
       "      <td>10.0</td>\n",
       "      <td>10.0</td>\n",
       "      <td>10.0</td>\n",
       "      <td>10.0</td>\n",
       "      <td>10.0</td>\n",
       "      <td>f</td>\n",
       "    </tr>\n",
       "    <tr>\n",
       "      <th>3</th>\n",
       "      <td>4797344</td>\n",
       "      <td>Cosy studio (close to Eiffel tower)</td>\n",
       "      <td>10668311</td>\n",
       "      <td>2013-12-17</td>\n",
       "      <td>Paris, Ile-de-France, France</td>\n",
       "      <td>NaN</td>\n",
       "      <td>NaN</td>\n",
       "      <td>NaN</td>\n",
       "      <td>f</td>\n",
       "      <td>1.0</td>\n",
       "      <td>...</td>\n",
       "      <td>2</td>\n",
       "      <td>1125</td>\n",
       "      <td>100.0</td>\n",
       "      <td>10.0</td>\n",
       "      <td>10.0</td>\n",
       "      <td>10.0</td>\n",
       "      <td>10.0</td>\n",
       "      <td>10.0</td>\n",
       "      <td>10.0</td>\n",
       "      <td>f</td>\n",
       "    </tr>\n",
       "    <tr>\n",
       "      <th>4</th>\n",
       "      <td>4823489</td>\n",
       "      <td>Close to Eiffel Tower - Beautiful flat : 2 rooms</td>\n",
       "      <td>24837558</td>\n",
       "      <td>2014-12-14</td>\n",
       "      <td>Paris, Ile-de-France, France</td>\n",
       "      <td>NaN</td>\n",
       "      <td>NaN</td>\n",
       "      <td>NaN</td>\n",
       "      <td>f</td>\n",
       "      <td>1.0</td>\n",
       "      <td>...</td>\n",
       "      <td>2</td>\n",
       "      <td>1125</td>\n",
       "      <td>100.0</td>\n",
       "      <td>10.0</td>\n",
       "      <td>10.0</td>\n",
       "      <td>10.0</td>\n",
       "      <td>10.0</td>\n",
       "      <td>10.0</td>\n",
       "      <td>10.0</td>\n",
       "      <td>f</td>\n",
       "    </tr>\n",
       "    <tr>\n",
       "      <th>...</th>\n",
       "      <td>...</td>\n",
       "      <td>...</td>\n",
       "      <td>...</td>\n",
       "      <td>...</td>\n",
       "      <td>...</td>\n",
       "      <td>...</td>\n",
       "      <td>...</td>\n",
       "      <td>...</td>\n",
       "      <td>...</td>\n",
       "      <td>...</td>\n",
       "      <td>...</td>\n",
       "      <td>...</td>\n",
       "      <td>...</td>\n",
       "      <td>...</td>\n",
       "      <td>...</td>\n",
       "      <td>...</td>\n",
       "      <td>...</td>\n",
       "      <td>...</td>\n",
       "      <td>...</td>\n",
       "      <td>...</td>\n",
       "      <td>...</td>\n",
       "    </tr>\n",
       "    <tr>\n",
       "      <th>279707</th>\n",
       "      <td>38338635</td>\n",
       "      <td>Appartement T2 neuf prÃÂ¨s du tram T3a Porte ...</td>\n",
       "      <td>31161181</td>\n",
       "      <td>2015-04-13</td>\n",
       "      <td>Paris, Ile-de-France, France</td>\n",
       "      <td>NaN</td>\n",
       "      <td>NaN</td>\n",
       "      <td>NaN</td>\n",
       "      <td>f</td>\n",
       "      <td>1.0</td>\n",
       "      <td>...</td>\n",
       "      <td>1</td>\n",
       "      <td>7</td>\n",
       "      <td>100.0</td>\n",
       "      <td>10.0</td>\n",
       "      <td>10.0</td>\n",
       "      <td>10.0</td>\n",
       "      <td>10.0</td>\n",
       "      <td>10.0</td>\n",
       "      <td>10.0</td>\n",
       "      <td>f</td>\n",
       "    </tr>\n",
       "    <tr>\n",
       "      <th>279708</th>\n",
       "      <td>38538692</td>\n",
       "      <td>Cozy Studio in Montmartre</td>\n",
       "      <td>10294858</td>\n",
       "      <td>2013-11-27</td>\n",
       "      <td>Paris, Ile-de-France, France</td>\n",
       "      <td>NaN</td>\n",
       "      <td>NaN</td>\n",
       "      <td>NaN</td>\n",
       "      <td>f</td>\n",
       "      <td>1.0</td>\n",
       "      <td>...</td>\n",
       "      <td>7</td>\n",
       "      <td>15</td>\n",
       "      <td>100.0</td>\n",
       "      <td>10.0</td>\n",
       "      <td>10.0</td>\n",
       "      <td>10.0</td>\n",
       "      <td>10.0</td>\n",
       "      <td>10.0</td>\n",
       "      <td>10.0</td>\n",
       "      <td>f</td>\n",
       "    </tr>\n",
       "    <tr>\n",
       "      <th>279709</th>\n",
       "      <td>38683356</td>\n",
       "      <td>Nice and cosy mini-appartement in Paris</td>\n",
       "      <td>2238502</td>\n",
       "      <td>2012-04-27</td>\n",
       "      <td>Paris, Ile-de-France, France</td>\n",
       "      <td>NaN</td>\n",
       "      <td>NaN</td>\n",
       "      <td>NaN</td>\n",
       "      <td>f</td>\n",
       "      <td>1.0</td>\n",
       "      <td>...</td>\n",
       "      <td>6</td>\n",
       "      <td>30</td>\n",
       "      <td>100.0</td>\n",
       "      <td>10.0</td>\n",
       "      <td>10.0</td>\n",
       "      <td>10.0</td>\n",
       "      <td>10.0</td>\n",
       "      <td>10.0</td>\n",
       "      <td>10.0</td>\n",
       "      <td>f</td>\n",
       "    </tr>\n",
       "    <tr>\n",
       "      <th>279710</th>\n",
       "      <td>39659000</td>\n",
       "      <td>Charming apartment near Rue Saint Maur / Oberk...</td>\n",
       "      <td>38633695</td>\n",
       "      <td>2015-07-16</td>\n",
       "      <td>Paris, Ile-de-France, France</td>\n",
       "      <td>NaN</td>\n",
       "      <td>NaN</td>\n",
       "      <td>NaN</td>\n",
       "      <td>f</td>\n",
       "      <td>1.0</td>\n",
       "      <td>...</td>\n",
       "      <td>3</td>\n",
       "      <td>18</td>\n",
       "      <td>100.0</td>\n",
       "      <td>10.0</td>\n",
       "      <td>10.0</td>\n",
       "      <td>10.0</td>\n",
       "      <td>10.0</td>\n",
       "      <td>10.0</td>\n",
       "      <td>10.0</td>\n",
       "      <td>f</td>\n",
       "    </tr>\n",
       "    <tr>\n",
       "      <th>279711</th>\n",
       "      <td>40219504</td>\n",
       "      <td>Cosy apartment with view on Canal St Martin</td>\n",
       "      <td>6955618</td>\n",
       "      <td>2013-06-17</td>\n",
       "      <td>Paris, Ile-de-France, France</td>\n",
       "      <td>NaN</td>\n",
       "      <td>NaN</td>\n",
       "      <td>NaN</td>\n",
       "      <td>f</td>\n",
       "      <td>1.0</td>\n",
       "      <td>...</td>\n",
       "      <td>2</td>\n",
       "      <td>4</td>\n",
       "      <td>100.0</td>\n",
       "      <td>10.0</td>\n",
       "      <td>10.0</td>\n",
       "      <td>10.0</td>\n",
       "      <td>10.0</td>\n",
       "      <td>10.0</td>\n",
       "      <td>10.0</td>\n",
       "      <td>f</td>\n",
       "    </tr>\n",
       "  </tbody>\n",
       "</table>\n",
       "<p>64690 rows × 33 columns</p>\n",
       "</div>"
      ],
      "text/plain": [
       "        listing_id                                               name  \\\n",
       "0           281420     Beautiful Flat in le Village Montmartre, Paris   \n",
       "1          3705183                    39 mÃÂ² Paris (Sacre CÃ\n",
       "âur)   \n",
       "2          4082273                Lovely apartment with Terrace, 60m2   \n",
       "3          4797344                Cosy studio (close to Eiffel tower)   \n",
       "4          4823489   Close to Eiffel Tower - Beautiful flat : 2 rooms   \n",
       "...            ...                                                ...   \n",
       "279707    38338635  Appartement T2 neuf prÃÂ¨s du tram T3a Porte ...   \n",
       "279708    38538692                          Cozy Studio in Montmartre   \n",
       "279709    38683356            Nice and cosy mini-appartement in Paris   \n",
       "279710    39659000  Charming apartment near Rue Saint Maur / Oberk...   \n",
       "279711    40219504        Cosy apartment with view on Canal St Martin   \n",
       "\n",
       "         host_id host_since                 host_location host_response_time  \\\n",
       "0        1466919 2011-12-03  Paris, Ile-de-France, France                NaN   \n",
       "1       10328771 2013-11-29  Paris, Ile-de-France, France                NaN   \n",
       "2       19252768 2014-07-31  Paris, Ile-de-France, France                NaN   \n",
       "3       10668311 2013-12-17  Paris, Ile-de-France, France                NaN   \n",
       "4       24837558 2014-12-14  Paris, Ile-de-France, France                NaN   \n",
       "...          ...        ...                           ...                ...   \n",
       "279707  31161181 2015-04-13  Paris, Ile-de-France, France                NaN   \n",
       "279708  10294858 2013-11-27  Paris, Ile-de-France, France                NaN   \n",
       "279709   2238502 2012-04-27  Paris, Ile-de-France, France                NaN   \n",
       "279710  38633695 2015-07-16  Paris, Ile-de-France, France                NaN   \n",
       "279711   6955618 2013-06-17  Paris, Ile-de-France, France                NaN   \n",
       "\n",
       "        host_response_rate  host_acceptance_rate host_is_superhost  \\\n",
       "0                      NaN                   NaN                 f   \n",
       "1                      NaN                   NaN                 f   \n",
       "2                      NaN                   NaN                 f   \n",
       "3                      NaN                   NaN                 f   \n",
       "4                      NaN                   NaN                 f   \n",
       "...                    ...                   ...               ...   \n",
       "279707                 NaN                   NaN                 f   \n",
       "279708                 NaN                   NaN                 f   \n",
       "279709                 NaN                   NaN                 f   \n",
       "279710                 NaN                   NaN                 f   \n",
       "279711                 NaN                   NaN                 f   \n",
       "\n",
       "        host_total_listings_count  ... minimum_nights maximum_nights  \\\n",
       "0                             1.0  ...              2           1125   \n",
       "1                             1.0  ...              2           1125   \n",
       "2                             1.0  ...              2           1125   \n",
       "3                             1.0  ...              2           1125   \n",
       "4                             1.0  ...              2           1125   \n",
       "...                           ...  ...            ...            ...   \n",
       "279707                        1.0  ...              1              7   \n",
       "279708                        1.0  ...              7             15   \n",
       "279709                        1.0  ...              6             30   \n",
       "279710                        1.0  ...              3             18   \n",
       "279711                        1.0  ...              2              4   \n",
       "\n",
       "       review_scores_rating review_scores_accuracy review_scores_cleanliness  \\\n",
       "0                     100.0                   10.0                      10.0   \n",
       "1                     100.0                   10.0                      10.0   \n",
       "2                     100.0                   10.0                      10.0   \n",
       "3                     100.0                   10.0                      10.0   \n",
       "4                     100.0                   10.0                      10.0   \n",
       "...                     ...                    ...                       ...   \n",
       "279707                100.0                   10.0                      10.0   \n",
       "279708                100.0                   10.0                      10.0   \n",
       "279709                100.0                   10.0                      10.0   \n",
       "279710                100.0                   10.0                      10.0   \n",
       "279711                100.0                   10.0                      10.0   \n",
       "\n",
       "        review_scores_checkin  review_scores_communication  \\\n",
       "0                        10.0                         10.0   \n",
       "1                        10.0                         10.0   \n",
       "2                        10.0                         10.0   \n",
       "3                        10.0                         10.0   \n",
       "4                        10.0                         10.0   \n",
       "...                       ...                          ...   \n",
       "279707                   10.0                         10.0   \n",
       "279708                   10.0                         10.0   \n",
       "279709                   10.0                         10.0   \n",
       "279710                   10.0                         10.0   \n",
       "279711                   10.0                         10.0   \n",
       "\n",
       "       review_scores_location review_scores_value  instant_bookable  \n",
       "0                        10.0                10.0                 f  \n",
       "1                        10.0                10.0                 f  \n",
       "2                        10.0                10.0                 f  \n",
       "3                        10.0                10.0                 f  \n",
       "4                        10.0                10.0                 f  \n",
       "...                       ...                 ...               ...  \n",
       "279707                   10.0                10.0                 f  \n",
       "279708                   10.0                10.0                 f  \n",
       "279709                   10.0                10.0                 f  \n",
       "279710                   10.0                10.0                 f  \n",
       "279711                   10.0                10.0                 f  \n",
       "\n",
       "[64690 rows x 33 columns]"
      ]
     },
     "execution_count": 14,
     "metadata": {},
     "output_type": "execute_result"
    }
   ],
   "source": [
    "paris_listings "
   ]
  },
  {
   "cell_type": "markdown",
   "id": "58e98a4a",
   "metadata": {
    "papermill": {
     "duration": 0.015265,
     "end_time": "2025-01-22T11:40:07.123341",
     "exception": false,
     "start_time": "2025-01-22T11:40:07.108076",
     "status": "completed"
    },
    "tags": []
   },
   "source": [
    " ### **Summarizes the DataFrame, showing column names, data types, non-null counts, and memory usage.**"
   ]
  },
  {
   "cell_type": "code",
   "execution_count": 15,
   "id": "11f8a985",
   "metadata": {
    "execution": {
     "iopub.execute_input": "2025-01-22T11:40:07.156005Z",
     "iopub.status.busy": "2025-01-22T11:40:07.155561Z",
     "iopub.status.idle": "2025-01-22T11:40:07.211928Z",
     "shell.execute_reply": "2025-01-22T11:40:07.210543Z"
    },
    "papermill": {
     "duration": 0.075149,
     "end_time": "2025-01-22T11:40:07.213908",
     "exception": false,
     "start_time": "2025-01-22T11:40:07.138759",
     "status": "completed"
    },
    "tags": []
   },
   "outputs": [
    {
     "name": "stdout",
     "output_type": "stream",
     "text": [
      "<class 'pandas.core.frame.DataFrame'>\n",
      "Index: 64690 entries, 0 to 279711\n",
      "Data columns (total 33 columns):\n",
      " #   Column                       Non-Null Count  Dtype         \n",
      "---  ------                       --------------  -----         \n",
      " 0   listing_id                   64690 non-null  int64         \n",
      " 1   name                         64627 non-null  object        \n",
      " 2   host_id                      64690 non-null  int64         \n",
      " 3   host_since                   64657 non-null  datetime64[ns]\n",
      " 4   host_location                64522 non-null  object        \n",
      " 5   host_response_time           23346 non-null  object        \n",
      " 6   host_response_rate           23346 non-null  float64       \n",
      " 7   host_acceptance_rate         31919 non-null  float64       \n",
      " 8   host_is_superhost            64657 non-null  object        \n",
      " 9   host_total_listings_count    64657 non-null  float64       \n",
      " 10  host_has_profile_pic         64657 non-null  object        \n",
      " 11  host_identity_verified       64657 non-null  object        \n",
      " 12  neighbourhood                64690 non-null  object        \n",
      " 13  district                     0 non-null      object        \n",
      " 14  city                         64690 non-null  object        \n",
      " 15  latitude                     64690 non-null  float64       \n",
      " 16  longitude                    64690 non-null  float64       \n",
      " 17  property_type                64690 non-null  object        \n",
      " 18  room_type                    64690 non-null  object        \n",
      " 19  accommodates                 64690 non-null  int64         \n",
      " 20  bedrooms                     51286 non-null  float64       \n",
      " 21  amenities                    64690 non-null  object        \n",
      " 22  price                        64690 non-null  int64         \n",
      " 23  minimum_nights               64690 non-null  int64         \n",
      " 24  maximum_nights               64690 non-null  int64         \n",
      " 25  review_scores_rating         48036 non-null  float64       \n",
      " 26  review_scores_accuracy       47989 non-null  float64       \n",
      " 27  review_scores_cleanliness    47998 non-null  float64       \n",
      " 28  review_scores_checkin        47972 non-null  float64       \n",
      " 29  review_scores_communication  47991 non-null  float64       \n",
      " 30  review_scores_location       47971 non-null  float64       \n",
      " 31  review_scores_value          47972 non-null  float64       \n",
      " 32  instant_bookable             64690 non-null  object        \n",
      "dtypes: datetime64[ns](1), float64(13), int64(6), object(13)\n",
      "memory usage: 16.8+ MB\n"
     ]
    }
   ],
   "source": [
    "paris_listings.info()"
   ]
  },
  {
   "cell_type": "code",
   "execution_count": 16,
   "id": "b31ca9a3",
   "metadata": {
    "execution": {
     "iopub.execute_input": "2025-01-22T11:40:07.247985Z",
     "iopub.status.busy": "2025-01-22T11:40:07.247606Z",
     "iopub.status.idle": "2025-01-22T11:40:07.284186Z",
     "shell.execute_reply": "2025-01-22T11:40:07.283084Z"
    },
    "papermill": {
     "duration": 0.055527,
     "end_time": "2025-01-22T11:40:07.286094",
     "exception": false,
     "start_time": "2025-01-22T11:40:07.230567",
     "status": "completed"
    },
    "tags": []
   },
   "outputs": [],
   "source": [
    "paris_listings = listings.query(\"city=='Paris'\").loc[:,[\"host_since\",\"neighbourhood\",\"city\",\"accommodates\",\"price\"]]   ## Fiter listings for Paris and selects specific columns."
   ]
  },
  {
   "cell_type": "markdown",
   "id": "efd4c7bc",
   "metadata": {
    "papermill": {
     "duration": 0.015419,
     "end_time": "2025-01-22T11:40:07.317251",
     "exception": false,
     "start_time": "2025-01-22T11:40:07.301832",
     "status": "completed"
    },
    "tags": []
   },
   "source": [
    "## **Displays the first 5 rows**  "
   ]
  },
  {
   "cell_type": "code",
   "execution_count": 17,
   "id": "23553766",
   "metadata": {
    "execution": {
     "iopub.execute_input": "2025-01-22T11:40:07.350035Z",
     "iopub.status.busy": "2025-01-22T11:40:07.349526Z",
     "iopub.status.idle": "2025-01-22T11:40:07.359783Z",
     "shell.execute_reply": "2025-01-22T11:40:07.358835Z"
    },
    "papermill": {
     "duration": 0.028671,
     "end_time": "2025-01-22T11:40:07.361480",
     "exception": false,
     "start_time": "2025-01-22T11:40:07.332809",
     "status": "completed"
    },
    "tags": []
   },
   "outputs": [
    {
     "data": {
      "text/html": [
       "<div>\n",
       "<style scoped>\n",
       "    .dataframe tbody tr th:only-of-type {\n",
       "        vertical-align: middle;\n",
       "    }\n",
       "\n",
       "    .dataframe tbody tr th {\n",
       "        vertical-align: top;\n",
       "    }\n",
       "\n",
       "    .dataframe thead th {\n",
       "        text-align: right;\n",
       "    }\n",
       "</style>\n",
       "<table border=\"1\" class=\"dataframe\">\n",
       "  <thead>\n",
       "    <tr style=\"text-align: right;\">\n",
       "      <th></th>\n",
       "      <th>host_since</th>\n",
       "      <th>neighbourhood</th>\n",
       "      <th>city</th>\n",
       "      <th>accommodates</th>\n",
       "      <th>price</th>\n",
       "    </tr>\n",
       "  </thead>\n",
       "  <tbody>\n",
       "    <tr>\n",
       "      <th>0</th>\n",
       "      <td>2011-12-03</td>\n",
       "      <td>Buttes-Montmartre</td>\n",
       "      <td>Paris</td>\n",
       "      <td>2</td>\n",
       "      <td>53</td>\n",
       "    </tr>\n",
       "    <tr>\n",
       "      <th>1</th>\n",
       "      <td>2013-11-29</td>\n",
       "      <td>Buttes-Montmartre</td>\n",
       "      <td>Paris</td>\n",
       "      <td>2</td>\n",
       "      <td>120</td>\n",
       "    </tr>\n",
       "    <tr>\n",
       "      <th>2</th>\n",
       "      <td>2014-07-31</td>\n",
       "      <td>Elysee</td>\n",
       "      <td>Paris</td>\n",
       "      <td>2</td>\n",
       "      <td>89</td>\n",
       "    </tr>\n",
       "    <tr>\n",
       "      <th>3</th>\n",
       "      <td>2013-12-17</td>\n",
       "      <td>Vaugirard</td>\n",
       "      <td>Paris</td>\n",
       "      <td>2</td>\n",
       "      <td>58</td>\n",
       "    </tr>\n",
       "    <tr>\n",
       "      <th>4</th>\n",
       "      <td>2014-12-14</td>\n",
       "      <td>Passy</td>\n",
       "      <td>Paris</td>\n",
       "      <td>2</td>\n",
       "      <td>60</td>\n",
       "    </tr>\n",
       "  </tbody>\n",
       "</table>\n",
       "</div>"
      ],
      "text/plain": [
       "  host_since      neighbourhood   city  accommodates  price\n",
       "0 2011-12-03  Buttes-Montmartre  Paris             2     53\n",
       "1 2013-11-29  Buttes-Montmartre  Paris             2    120\n",
       "2 2014-07-31             Elysee  Paris             2     89\n",
       "3 2013-12-17          Vaugirard  Paris             2     58\n",
       "4 2014-12-14              Passy  Paris             2     60"
      ]
     },
     "execution_count": 17,
     "metadata": {},
     "output_type": "execute_result"
    }
   ],
   "source": [
    "paris_listings.head()"
   ]
  },
  {
   "cell_type": "code",
   "execution_count": 18,
   "id": "b49a974d",
   "metadata": {
    "execution": {
     "iopub.execute_input": "2025-01-22T11:40:07.394607Z",
     "iopub.status.busy": "2025-01-22T11:40:07.394269Z",
     "iopub.status.idle": "2025-01-22T11:40:07.411594Z",
     "shell.execute_reply": "2025-01-22T11:40:07.410273Z"
    },
    "papermill": {
     "duration": 0.035676,
     "end_time": "2025-01-22T11:40:07.413247",
     "exception": false,
     "start_time": "2025-01-22T11:40:07.377571",
     "status": "completed"
    },
    "tags": []
   },
   "outputs": [
    {
     "name": "stdout",
     "output_type": "stream",
     "text": [
      "<class 'pandas.core.frame.DataFrame'>\n",
      "Index: 64690 entries, 0 to 279711\n",
      "Data columns (total 5 columns):\n",
      " #   Column         Non-Null Count  Dtype         \n",
      "---  ------         --------------  -----         \n",
      " 0   host_since     64657 non-null  datetime64[ns]\n",
      " 1   neighbourhood  64690 non-null  object        \n",
      " 2   city           64690 non-null  object        \n",
      " 3   accommodates   64690 non-null  int64         \n",
      " 4   price          64690 non-null  int64         \n",
      "dtypes: datetime64[ns](1), int64(2), object(2)\n",
      "memory usage: 3.0+ MB\n"
     ]
    }
   ],
   "source": [
    "paris_listings.info()"
   ]
  },
  {
   "cell_type": "markdown",
   "id": "9ad8c9d8",
   "metadata": {
    "papermill": {
     "duration": 0.015345,
     "end_time": "2025-01-22T11:40:07.444619",
     "exception": false,
     "start_time": "2025-01-22T11:40:07.429274",
     "status": "completed"
    },
    "tags": []
   },
   "source": [
    "###  **It count the number of missing values (NaNs) in each column** "
   ]
  },
  {
   "cell_type": "code",
   "execution_count": 19,
   "id": "3e618d91",
   "metadata": {
    "execution": {
     "iopub.execute_input": "2025-01-22T11:40:07.477851Z",
     "iopub.status.busy": "2025-01-22T11:40:07.477499Z",
     "iopub.status.idle": "2025-01-22T11:40:07.492013Z",
     "shell.execute_reply": "2025-01-22T11:40:07.490818Z"
    },
    "papermill": {
     "duration": 0.033348,
     "end_time": "2025-01-22T11:40:07.493853",
     "exception": false,
     "start_time": "2025-01-22T11:40:07.460505",
     "status": "completed"
    },
    "tags": []
   },
   "outputs": [
    {
     "data": {
      "text/plain": [
       "host_since       33\n",
       "neighbourhood     0\n",
       "city              0\n",
       "accommodates      0\n",
       "price             0\n",
       "dtype: int64"
      ]
     },
     "execution_count": 19,
     "metadata": {},
     "output_type": "execute_result"
    }
   ],
   "source": [
    "paris_listings.isna().sum()   "
   ]
  },
  {
   "cell_type": "markdown",
   "id": "bd1dfda0",
   "metadata": {
    "papermill": {
     "duration": 0.015656,
     "end_time": "2025-01-22T11:40:07.525785",
     "exception": false,
     "start_time": "2025-01-22T11:40:07.510129",
     "status": "completed"
    },
    "tags": []
   },
   "source": [
    "###  **If any column in a row contains a missing value (NaN), that entire row will be dropped.**"
   ]
  },
  {
   "cell_type": "code",
   "execution_count": 20,
   "id": "c4dbdc51",
   "metadata": {
    "execution": {
     "iopub.execute_input": "2025-01-22T11:40:07.558850Z",
     "iopub.status.busy": "2025-01-22T11:40:07.558522Z",
     "iopub.status.idle": "2025-01-22T11:40:07.573375Z",
     "shell.execute_reply": "2025-01-22T11:40:07.571989Z"
    },
    "papermill": {
     "duration": 0.03402,
     "end_time": "2025-01-22T11:40:07.575991",
     "exception": false,
     "start_time": "2025-01-22T11:40:07.541971",
     "status": "completed"
    },
    "tags": []
   },
   "outputs": [],
   "source": [
    "paris_listings.dropna(how=\"any\",inplace=True) "
   ]
  },
  {
   "cell_type": "markdown",
   "id": "fc57b5af",
   "metadata": {
    "papermill": {
     "duration": 0.015914,
     "end_time": "2025-01-22T11:40:07.614331",
     "exception": false,
     "start_time": "2025-01-22T11:40:07.598417",
     "status": "completed"
    },
    "tags": []
   },
   "source": [
    "## **Information About Dataset**"
   ]
  },
  {
   "cell_type": "code",
   "execution_count": 21,
   "id": "3d15fd03",
   "metadata": {
    "execution": {
     "iopub.execute_input": "2025-01-22T11:40:07.651755Z",
     "iopub.status.busy": "2025-01-22T11:40:07.651388Z",
     "iopub.status.idle": "2025-01-22T11:40:07.669068Z",
     "shell.execute_reply": "2025-01-22T11:40:07.667766Z"
    },
    "papermill": {
     "duration": 0.040333,
     "end_time": "2025-01-22T11:40:07.670840",
     "exception": false,
     "start_time": "2025-01-22T11:40:07.630507",
     "status": "completed"
    },
    "tags": []
   },
   "outputs": [
    {
     "name": "stdout",
     "output_type": "stream",
     "text": [
      "<class 'pandas.core.frame.DataFrame'>\n",
      "Index: 64657 entries, 0 to 279711\n",
      "Data columns (total 5 columns):\n",
      " #   Column         Non-Null Count  Dtype         \n",
      "---  ------         --------------  -----         \n",
      " 0   host_since     64657 non-null  datetime64[ns]\n",
      " 1   neighbourhood  64657 non-null  object        \n",
      " 2   city           64657 non-null  object        \n",
      " 3   accommodates   64657 non-null  int64         \n",
      " 4   price          64657 non-null  int64         \n",
      "dtypes: datetime64[ns](1), int64(2), object(2)\n",
      "memory usage: 3.0+ MB\n"
     ]
    }
   ],
   "source": [
    "paris_listings.info()"
   ]
  },
  {
   "cell_type": "code",
   "execution_count": 22,
   "id": "406e5de9",
   "metadata": {
    "execution": {
     "iopub.execute_input": "2025-01-22T11:40:07.712295Z",
     "iopub.status.busy": "2025-01-22T11:40:07.711783Z",
     "iopub.status.idle": "2025-01-22T11:40:07.746127Z",
     "shell.execute_reply": "2025-01-22T11:40:07.744836Z"
    },
    "papermill": {
     "duration": 0.058187,
     "end_time": "2025-01-22T11:40:07.748113",
     "exception": false,
     "start_time": "2025-01-22T11:40:07.689926",
     "status": "completed"
    },
    "tags": []
   },
   "outputs": [
    {
     "data": {
      "text/html": [
       "<div>\n",
       "<style scoped>\n",
       "    .dataframe tbody tr th:only-of-type {\n",
       "        vertical-align: middle;\n",
       "    }\n",
       "\n",
       "    .dataframe tbody tr th {\n",
       "        vertical-align: top;\n",
       "    }\n",
       "\n",
       "    .dataframe thead th {\n",
       "        text-align: right;\n",
       "    }\n",
       "</style>\n",
       "<table border=\"1\" class=\"dataframe\">\n",
       "  <thead>\n",
       "    <tr style=\"text-align: right;\">\n",
       "      <th></th>\n",
       "      <th>host_since</th>\n",
       "      <th>accommodates</th>\n",
       "      <th>price</th>\n",
       "    </tr>\n",
       "  </thead>\n",
       "  <tbody>\n",
       "    <tr>\n",
       "      <th>count</th>\n",
       "      <td>64657</td>\n",
       "      <td>64657.000000</td>\n",
       "      <td>64657.000000</td>\n",
       "    </tr>\n",
       "    <tr>\n",
       "      <th>mean</th>\n",
       "      <td>2015-11-01 11:06:05.528867328</td>\n",
       "      <td>3.037877</td>\n",
       "      <td>113.104614</td>\n",
       "    </tr>\n",
       "    <tr>\n",
       "      <th>min</th>\n",
       "      <td>2008-08-30 00:00:00</td>\n",
       "      <td>0.000000</td>\n",
       "      <td>0.000000</td>\n",
       "    </tr>\n",
       "    <tr>\n",
       "      <th>25%</th>\n",
       "      <td>2014-03-09 00:00:00</td>\n",
       "      <td>2.000000</td>\n",
       "      <td>59.000000</td>\n",
       "    </tr>\n",
       "    <tr>\n",
       "      <th>50%</th>\n",
       "      <td>2015-07-07 00:00:00</td>\n",
       "      <td>2.000000</td>\n",
       "      <td>80.000000</td>\n",
       "    </tr>\n",
       "    <tr>\n",
       "      <th>75%</th>\n",
       "      <td>2017-05-29 00:00:00</td>\n",
       "      <td>4.000000</td>\n",
       "      <td>120.000000</td>\n",
       "    </tr>\n",
       "    <tr>\n",
       "      <th>max</th>\n",
       "      <td>2021-02-07 00:00:00</td>\n",
       "      <td>16.000000</td>\n",
       "      <td>12000.000000</td>\n",
       "    </tr>\n",
       "    <tr>\n",
       "      <th>std</th>\n",
       "      <td>NaN</td>\n",
       "      <td>1.588382</td>\n",
       "      <td>214.479626</td>\n",
       "    </tr>\n",
       "  </tbody>\n",
       "</table>\n",
       "</div>"
      ],
      "text/plain": [
       "                          host_since  accommodates         price\n",
       "count                          64657  64657.000000  64657.000000\n",
       "mean   2015-11-01 11:06:05.528867328      3.037877    113.104614\n",
       "min              2008-08-30 00:00:00      0.000000      0.000000\n",
       "25%              2014-03-09 00:00:00      2.000000     59.000000\n",
       "50%              2015-07-07 00:00:00      2.000000     80.000000\n",
       "75%              2017-05-29 00:00:00      4.000000    120.000000\n",
       "max              2021-02-07 00:00:00     16.000000  12000.000000\n",
       "std                              NaN      1.588382    214.479626"
      ]
     },
     "execution_count": 22,
     "metadata": {},
     "output_type": "execute_result"
    }
   ],
   "source": [
    "paris_listings.describe()"
   ]
  },
  {
   "cell_type": "markdown",
   "id": "a461a284",
   "metadata": {
    "papermill": {
     "duration": 0.018345,
     "end_time": "2025-01-22T11:40:07.787076",
     "exception": false,
     "start_time": "2025-01-22T11:40:07.768731",
     "status": "completed"
    },
    "tags": []
   },
   "source": [
    "### **Summarizes categorical columns with count, unique values, most frequent value, and its frequency.**"
   ]
  },
  {
   "cell_type": "code",
   "execution_count": 23,
   "id": "323db2e6",
   "metadata": {
    "execution": {
     "iopub.execute_input": "2025-01-22T11:40:07.821623Z",
     "iopub.status.busy": "2025-01-22T11:40:07.821261Z",
     "iopub.status.idle": "2025-01-22T11:40:07.847119Z",
     "shell.execute_reply": "2025-01-22T11:40:07.846099Z"
    },
    "papermill": {
     "duration": 0.045346,
     "end_time": "2025-01-22T11:40:07.849148",
     "exception": false,
     "start_time": "2025-01-22T11:40:07.803802",
     "status": "completed"
    },
    "tags": []
   },
   "outputs": [
    {
     "data": {
      "text/html": [
       "<div>\n",
       "<style scoped>\n",
       "    .dataframe tbody tr th:only-of-type {\n",
       "        vertical-align: middle;\n",
       "    }\n",
       "\n",
       "    .dataframe tbody tr th {\n",
       "        vertical-align: top;\n",
       "    }\n",
       "\n",
       "    .dataframe thead th {\n",
       "        text-align: right;\n",
       "    }\n",
       "</style>\n",
       "<table border=\"1\" class=\"dataframe\">\n",
       "  <thead>\n",
       "    <tr style=\"text-align: right;\">\n",
       "      <th></th>\n",
       "      <th>neighbourhood</th>\n",
       "      <th>city</th>\n",
       "    </tr>\n",
       "  </thead>\n",
       "  <tbody>\n",
       "    <tr>\n",
       "      <th>count</th>\n",
       "      <td>64657</td>\n",
       "      <td>64657</td>\n",
       "    </tr>\n",
       "    <tr>\n",
       "      <th>unique</th>\n",
       "      <td>20</td>\n",
       "      <td>1</td>\n",
       "    </tr>\n",
       "    <tr>\n",
       "      <th>top</th>\n",
       "      <td>Buttes-Montmartre</td>\n",
       "      <td>Paris</td>\n",
       "    </tr>\n",
       "    <tr>\n",
       "      <th>freq</th>\n",
       "      <td>7232</td>\n",
       "      <td>64657</td>\n",
       "    </tr>\n",
       "  </tbody>\n",
       "</table>\n",
       "</div>"
      ],
      "text/plain": [
       "            neighbourhood   city\n",
       "count               64657  64657\n",
       "unique                 20      1\n",
       "top     Buttes-Montmartre  Paris\n",
       "freq                 7232  64657"
      ]
     },
     "execution_count": 23,
     "metadata": {},
     "output_type": "execute_result"
    }
   ],
   "source": [
    "paris_listings.describe(include=\"object\")"
   ]
  },
  {
   "cell_type": "markdown",
   "id": "0570abb6",
   "metadata": {
    "papermill": {
     "duration": 0.016861,
     "end_time": "2025-01-22T11:40:07.882652",
     "exception": false,
     "start_time": "2025-01-22T11:40:07.865791",
     "status": "completed"
    },
    "tags": []
   },
   "source": [
    "### **It counts non-missing values column-wise for rows where the accommodates\"column equals 0.**"
   ]
  },
  {
   "cell_type": "code",
   "execution_count": 24,
   "id": "25005567",
   "metadata": {
    "execution": {
     "iopub.execute_input": "2025-01-22T11:40:07.916793Z",
     "iopub.status.busy": "2025-01-22T11:40:07.916442Z",
     "iopub.status.idle": "2025-01-22T11:40:07.925064Z",
     "shell.execute_reply": "2025-01-22T11:40:07.924023Z"
    },
    "papermill": {
     "duration": 0.027879,
     "end_time": "2025-01-22T11:40:07.926766",
     "exception": false,
     "start_time": "2025-01-22T11:40:07.898887",
     "status": "completed"
    },
    "tags": []
   },
   "outputs": [
    {
     "data": {
      "text/plain": [
       "host_since       54\n",
       "neighbourhood    54\n",
       "city             54\n",
       "accommodates     54\n",
       "price            54\n",
       "dtype: int64"
      ]
     },
     "execution_count": 24,
     "metadata": {},
     "output_type": "execute_result"
    }
   ],
   "source": [
    "paris_listings[paris_listings[\"accommodates\"]==0].count(axis=0) "
   ]
  },
  {
   "cell_type": "markdown",
   "id": "e37ad63f",
   "metadata": {
    "papermill": {
     "duration": 0.073572,
     "end_time": "2025-01-22T11:40:08.017366",
     "exception": false,
     "start_time": "2025-01-22T11:40:07.943794",
     "status": "completed"
    },
    "tags": []
   },
   "source": [
    "### **It counts non-missing values column-wise for rows where the price column equals 0.**"
   ]
  },
  {
   "cell_type": "code",
   "execution_count": 25,
   "id": "f44f1615",
   "metadata": {
    "execution": {
     "iopub.execute_input": "2025-01-22T11:40:08.052106Z",
     "iopub.status.busy": "2025-01-22T11:40:08.051699Z",
     "iopub.status.idle": "2025-01-22T11:40:08.060387Z",
     "shell.execute_reply": "2025-01-22T11:40:08.059507Z"
    },
    "papermill": {
     "duration": 0.028538,
     "end_time": "2025-01-22T11:40:08.062291",
     "exception": false,
     "start_time": "2025-01-22T11:40:08.033753",
     "status": "completed"
    },
    "tags": []
   },
   "outputs": [
    {
     "data": {
      "text/plain": [
       "host_since       62\n",
       "neighbourhood    62\n",
       "city             62\n",
       "accommodates     62\n",
       "price            62\n",
       "dtype: int64"
      ]
     },
     "execution_count": 25,
     "metadata": {},
     "output_type": "execute_result"
    }
   ],
   "source": [
    "paris_listings[paris_listings[\"price\"]==0].count(axis=0)     "
   ]
  },
  {
   "cell_type": "markdown",
   "id": "2154b015",
   "metadata": {
    "papermill": {
     "duration": 0.01651,
     "end_time": "2025-01-22T11:40:08.095646",
     "exception": false,
     "start_time": "2025-01-22T11:40:08.079136",
     "status": "completed"
    },
    "tags": []
   },
   "source": [
    "### **To show rows where the accommodates column is not 0 and the price column is 0.**"
   ]
  },
  {
   "cell_type": "code",
   "execution_count": 26,
   "id": "0ea43688",
   "metadata": {
    "execution": {
     "iopub.execute_input": "2025-01-22T11:40:08.130655Z",
     "iopub.status.busy": "2025-01-22T11:40:08.130318Z",
     "iopub.status.idle": "2025-01-22T11:40:08.142205Z",
     "shell.execute_reply": "2025-01-22T11:40:08.141085Z"
    },
    "papermill": {
     "duration": 0.031313,
     "end_time": "2025-01-22T11:40:08.143804",
     "exception": false,
     "start_time": "2025-01-22T11:40:08.112491",
     "status": "completed"
    },
    "tags": []
   },
   "outputs": [
    {
     "data": {
      "text/html": [
       "<div>\n",
       "<style scoped>\n",
       "    .dataframe tbody tr th:only-of-type {\n",
       "        vertical-align: middle;\n",
       "    }\n",
       "\n",
       "    .dataframe tbody tr th {\n",
       "        vertical-align: top;\n",
       "    }\n",
       "\n",
       "    .dataframe thead th {\n",
       "        text-align: right;\n",
       "    }\n",
       "</style>\n",
       "<table border=\"1\" class=\"dataframe\">\n",
       "  <thead>\n",
       "    <tr style=\"text-align: right;\">\n",
       "      <th></th>\n",
       "      <th>host_since</th>\n",
       "      <th>neighbourhood</th>\n",
       "      <th>city</th>\n",
       "      <th>accommodates</th>\n",
       "      <th>price</th>\n",
       "    </tr>\n",
       "  </thead>\n",
       "  <tbody>\n",
       "    <tr>\n",
       "      <th>207075</th>\n",
       "      <td>2019-07-22</td>\n",
       "      <td>Vaugirard</td>\n",
       "      <td>Paris</td>\n",
       "      <td>2</td>\n",
       "      <td>0</td>\n",
       "    </tr>\n",
       "    <tr>\n",
       "      <th>207076</th>\n",
       "      <td>2019-10-31</td>\n",
       "      <td>Enclos-St-Laurent</td>\n",
       "      <td>Paris</td>\n",
       "      <td>2</td>\n",
       "      <td>0</td>\n",
       "    </tr>\n",
       "    <tr>\n",
       "      <th>208301</th>\n",
       "      <td>2019-05-27</td>\n",
       "      <td>Palais-Bourbon</td>\n",
       "      <td>Paris</td>\n",
       "      <td>2</td>\n",
       "      <td>0</td>\n",
       "    </tr>\n",
       "    <tr>\n",
       "      <th>208302</th>\n",
       "      <td>2019-07-19</td>\n",
       "      <td>Pantheon</td>\n",
       "      <td>Paris</td>\n",
       "      <td>3</td>\n",
       "      <td>0</td>\n",
       "    </tr>\n",
       "    <tr>\n",
       "      <th>208854</th>\n",
       "      <td>2016-09-16</td>\n",
       "      <td>Louvre</td>\n",
       "      <td>Paris</td>\n",
       "      <td>3</td>\n",
       "      <td>0</td>\n",
       "    </tr>\n",
       "    <tr>\n",
       "      <th>208855</th>\n",
       "      <td>2019-11-06</td>\n",
       "      <td>Luxembourg</td>\n",
       "      <td>Paris</td>\n",
       "      <td>3</td>\n",
       "      <td>0</td>\n",
       "    </tr>\n",
       "    <tr>\n",
       "      <th>208856</th>\n",
       "      <td>2019-12-02</td>\n",
       "      <td>Elysee</td>\n",
       "      <td>Paris</td>\n",
       "      <td>3</td>\n",
       "      <td>0</td>\n",
       "    </tr>\n",
       "    <tr>\n",
       "      <th>208857</th>\n",
       "      <td>2019-12-17</td>\n",
       "      <td>Opera</td>\n",
       "      <td>Paris</td>\n",
       "      <td>2</td>\n",
       "      <td>0</td>\n",
       "    </tr>\n",
       "  </tbody>\n",
       "</table>\n",
       "</div>"
      ],
      "text/plain": [
       "       host_since      neighbourhood   city  accommodates  price\n",
       "207075 2019-07-22          Vaugirard  Paris             2      0\n",
       "207076 2019-10-31  Enclos-St-Laurent  Paris             2      0\n",
       "208301 2019-05-27     Palais-Bourbon  Paris             2      0\n",
       "208302 2019-07-19           Pantheon  Paris             3      0\n",
       "208854 2016-09-16             Louvre  Paris             3      0\n",
       "208855 2019-11-06         Luxembourg  Paris             3      0\n",
       "208856 2019-12-02             Elysee  Paris             3      0\n",
       "208857 2019-12-17              Opera  Paris             2      0"
      ]
     },
     "execution_count": 26,
     "metadata": {},
     "output_type": "execute_result"
    }
   ],
   "source": [
    "paris_listings[(paris_listings[\"accommodates\"]!=0)& (paris_listings[\"price\"]==0)]   "
   ]
  },
  {
   "cell_type": "markdown",
   "id": "0c7693c6",
   "metadata": {
    "papermill": {
     "duration": 0.016462,
     "end_time": "2025-01-22T11:40:08.177806",
     "exception": false,
     "start_time": "2025-01-22T11:40:08.161344",
     "status": "completed"
    },
    "tags": []
   },
   "source": [
    "## **Keep only the rows where the price column is not equal to 0**"
   ]
  },
  {
   "cell_type": "code",
   "execution_count": 27,
   "id": "de942b32",
   "metadata": {
    "execution": {
     "iopub.execute_input": "2025-01-22T11:40:08.213860Z",
     "iopub.status.busy": "2025-01-22T11:40:08.213472Z",
     "iopub.status.idle": "2025-01-22T11:40:08.222233Z",
     "shell.execute_reply": "2025-01-22T11:40:08.220973Z"
    },
    "papermill": {
     "duration": 0.028894,
     "end_time": "2025-01-22T11:40:08.224211",
     "exception": false,
     "start_time": "2025-01-22T11:40:08.195317",
     "status": "completed"
    },
    "tags": []
   },
   "outputs": [],
   "source": [
    " paris_listings =paris_listings[paris_listings[\"price\"]!=0]   "
   ]
  },
  {
   "cell_type": "code",
   "execution_count": 28,
   "id": "74b69d2c",
   "metadata": {
    "execution": {
     "iopub.execute_input": "2025-01-22T11:40:08.260887Z",
     "iopub.status.busy": "2025-01-22T11:40:08.260509Z",
     "iopub.status.idle": "2025-01-22T11:40:08.273429Z",
     "shell.execute_reply": "2025-01-22T11:40:08.272191Z"
    },
    "papermill": {
     "duration": 0.033925,
     "end_time": "2025-01-22T11:40:08.275604",
     "exception": false,
     "start_time": "2025-01-22T11:40:08.241679",
     "status": "completed"
    },
    "tags": []
   },
   "outputs": [
    {
     "data": {
      "text/html": [
       "<div>\n",
       "<style scoped>\n",
       "    .dataframe tbody tr th:only-of-type {\n",
       "        vertical-align: middle;\n",
       "    }\n",
       "\n",
       "    .dataframe tbody tr th {\n",
       "        vertical-align: top;\n",
       "    }\n",
       "\n",
       "    .dataframe thead th {\n",
       "        text-align: right;\n",
       "    }\n",
       "</style>\n",
       "<table border=\"1\" class=\"dataframe\">\n",
       "  <thead>\n",
       "    <tr style=\"text-align: right;\">\n",
       "      <th></th>\n",
       "      <th>host_since</th>\n",
       "      <th>neighbourhood</th>\n",
       "      <th>city</th>\n",
       "      <th>accommodates</th>\n",
       "      <th>price</th>\n",
       "    </tr>\n",
       "  </thead>\n",
       "  <tbody>\n",
       "    <tr>\n",
       "      <th>0</th>\n",
       "      <td>2011-12-03</td>\n",
       "      <td>Buttes-Montmartre</td>\n",
       "      <td>Paris</td>\n",
       "      <td>2</td>\n",
       "      <td>53</td>\n",
       "    </tr>\n",
       "    <tr>\n",
       "      <th>1</th>\n",
       "      <td>2013-11-29</td>\n",
       "      <td>Buttes-Montmartre</td>\n",
       "      <td>Paris</td>\n",
       "      <td>2</td>\n",
       "      <td>120</td>\n",
       "    </tr>\n",
       "    <tr>\n",
       "      <th>2</th>\n",
       "      <td>2014-07-31</td>\n",
       "      <td>Elysee</td>\n",
       "      <td>Paris</td>\n",
       "      <td>2</td>\n",
       "      <td>89</td>\n",
       "    </tr>\n",
       "    <tr>\n",
       "      <th>3</th>\n",
       "      <td>2013-12-17</td>\n",
       "      <td>Vaugirard</td>\n",
       "      <td>Paris</td>\n",
       "      <td>2</td>\n",
       "      <td>58</td>\n",
       "    </tr>\n",
       "    <tr>\n",
       "      <th>4</th>\n",
       "      <td>2014-12-14</td>\n",
       "      <td>Passy</td>\n",
       "      <td>Paris</td>\n",
       "      <td>2</td>\n",
       "      <td>60</td>\n",
       "    </tr>\n",
       "    <tr>\n",
       "      <th>...</th>\n",
       "      <td>...</td>\n",
       "      <td>...</td>\n",
       "      <td>...</td>\n",
       "      <td>...</td>\n",
       "      <td>...</td>\n",
       "    </tr>\n",
       "    <tr>\n",
       "      <th>279707</th>\n",
       "      <td>2015-04-13</td>\n",
       "      <td>Observatoire</td>\n",
       "      <td>Paris</td>\n",
       "      <td>2</td>\n",
       "      <td>120</td>\n",
       "    </tr>\n",
       "    <tr>\n",
       "      <th>279708</th>\n",
       "      <td>2013-11-27</td>\n",
       "      <td>Buttes-Montmartre</td>\n",
       "      <td>Paris</td>\n",
       "      <td>2</td>\n",
       "      <td>60</td>\n",
       "    </tr>\n",
       "    <tr>\n",
       "      <th>279709</th>\n",
       "      <td>2012-04-27</td>\n",
       "      <td>Buttes-Montmartre</td>\n",
       "      <td>Paris</td>\n",
       "      <td>2</td>\n",
       "      <td>50</td>\n",
       "    </tr>\n",
       "    <tr>\n",
       "      <th>279710</th>\n",
       "      <td>2015-07-16</td>\n",
       "      <td>Popincourt</td>\n",
       "      <td>Paris</td>\n",
       "      <td>2</td>\n",
       "      <td>105</td>\n",
       "    </tr>\n",
       "    <tr>\n",
       "      <th>279711</th>\n",
       "      <td>2013-06-17</td>\n",
       "      <td>Enclos-St-Laurent</td>\n",
       "      <td>Paris</td>\n",
       "      <td>2</td>\n",
       "      <td>70</td>\n",
       "    </tr>\n",
       "  </tbody>\n",
       "</table>\n",
       "<p>64595 rows × 5 columns</p>\n",
       "</div>"
      ],
      "text/plain": [
       "       host_since      neighbourhood   city  accommodates  price\n",
       "0      2011-12-03  Buttes-Montmartre  Paris             2     53\n",
       "1      2013-11-29  Buttes-Montmartre  Paris             2    120\n",
       "2      2014-07-31             Elysee  Paris             2     89\n",
       "3      2013-12-17          Vaugirard  Paris             2     58\n",
       "4      2014-12-14              Passy  Paris             2     60\n",
       "...           ...                ...    ...           ...    ...\n",
       "279707 2015-04-13       Observatoire  Paris             2    120\n",
       "279708 2013-11-27  Buttes-Montmartre  Paris             2     60\n",
       "279709 2012-04-27  Buttes-Montmartre  Paris             2     50\n",
       "279710 2015-07-16         Popincourt  Paris             2    105\n",
       "279711 2013-06-17  Enclos-St-Laurent  Paris             2     70\n",
       "\n",
       "[64595 rows x 5 columns]"
      ]
     },
     "execution_count": 28,
     "metadata": {},
     "output_type": "execute_result"
    }
   ],
   "source": [
    "paris_listings"
   ]
  },
  {
   "cell_type": "markdown",
   "id": "5900471f",
   "metadata": {
    "papermill": {
     "duration": 0.017658,
     "end_time": "2025-01-22T11:40:08.312326",
     "exception": false,
     "start_time": "2025-01-22T11:40:08.294668",
     "status": "completed"
    },
    "tags": []
   },
   "source": [
    "## **Calculates and sorts the average price by neighborhood in descending order.**"
   ]
  },
  {
   "cell_type": "code",
   "execution_count": 29,
   "id": "a0da8cfc",
   "metadata": {
    "execution": {
     "iopub.execute_input": "2025-01-22T11:40:08.348845Z",
     "iopub.status.busy": "2025-01-22T11:40:08.348397Z",
     "iopub.status.idle": "2025-01-22T11:40:08.364086Z",
     "shell.execute_reply": "2025-01-22T11:40:08.362877Z"
    },
    "papermill": {
     "duration": 0.036481,
     "end_time": "2025-01-22T11:40:08.366324",
     "exception": false,
     "start_time": "2025-01-22T11:40:08.329843",
     "status": "completed"
    },
    "tags": []
   },
   "outputs": [],
   "source": [
    "paris_listings_neighbourhood = paris_listings.groupby(\"neighbourhood\").agg({\"price\":\"mean\"}).sort_values(\"price\",ascending=False).round(2)"
   ]
  },
  {
   "cell_type": "code",
   "execution_count": 30,
   "id": "c9911825",
   "metadata": {
    "execution": {
     "iopub.execute_input": "2025-01-22T11:40:08.403991Z",
     "iopub.status.busy": "2025-01-22T11:40:08.403539Z",
     "iopub.status.idle": "2025-01-22T11:40:08.413480Z",
     "shell.execute_reply": "2025-01-22T11:40:08.412245Z"
    },
    "papermill": {
     "duration": 0.03116,
     "end_time": "2025-01-22T11:40:08.415404",
     "exception": false,
     "start_time": "2025-01-22T11:40:08.384244",
     "status": "completed"
    },
    "tags": []
   },
   "outputs": [
    {
     "data": {
      "text/html": [
       "<div>\n",
       "<style scoped>\n",
       "    .dataframe tbody tr th:only-of-type {\n",
       "        vertical-align: middle;\n",
       "    }\n",
       "\n",
       "    .dataframe tbody tr th {\n",
       "        vertical-align: top;\n",
       "    }\n",
       "\n",
       "    .dataframe thead th {\n",
       "        text-align: right;\n",
       "    }\n",
       "</style>\n",
       "<table border=\"1\" class=\"dataframe\">\n",
       "  <thead>\n",
       "    <tr style=\"text-align: right;\">\n",
       "      <th></th>\n",
       "      <th>price</th>\n",
       "    </tr>\n",
       "    <tr>\n",
       "      <th>neighbourhood</th>\n",
       "      <th></th>\n",
       "    </tr>\n",
       "  </thead>\n",
       "  <tbody>\n",
       "    <tr>\n",
       "      <th>Elysee</th>\n",
       "      <td>211.37</td>\n",
       "    </tr>\n",
       "    <tr>\n",
       "      <th>Louvre</th>\n",
       "      <td>175.75</td>\n",
       "    </tr>\n",
       "    <tr>\n",
       "      <th>Passy</th>\n",
       "      <td>161.29</td>\n",
       "    </tr>\n",
       "    <tr>\n",
       "      <th>Palais-Bourbon</th>\n",
       "      <td>157.51</td>\n",
       "    </tr>\n",
       "    <tr>\n",
       "      <th>Luxembourg</th>\n",
       "      <td>155.79</td>\n",
       "    </tr>\n",
       "    <tr>\n",
       "      <th>Bourse</th>\n",
       "      <td>149.63</td>\n",
       "    </tr>\n",
       "    <tr>\n",
       "      <th>Hotel-de-Ville</th>\n",
       "      <td>144.52</td>\n",
       "    </tr>\n",
       "    <tr>\n",
       "      <th>Temple</th>\n",
       "      <td>138.43</td>\n",
       "    </tr>\n",
       "    <tr>\n",
       "      <th>Pantheon</th>\n",
       "      <td>122.98</td>\n",
       "    </tr>\n",
       "    <tr>\n",
       "      <th>Opera</th>\n",
       "      <td>119.20</td>\n",
       "    </tr>\n",
       "    <tr>\n",
       "      <th>Vaugirard</th>\n",
       "      <td>107.09</td>\n",
       "    </tr>\n",
       "    <tr>\n",
       "      <th>Enclos-St-Laurent</th>\n",
       "      <td>103.12</td>\n",
       "    </tr>\n",
       "    <tr>\n",
       "      <th>Batignolles-Monceau</th>\n",
       "      <td>102.69</td>\n",
       "    </tr>\n",
       "    <tr>\n",
       "      <th>Observatoire</th>\n",
       "      <td>102.00</td>\n",
       "    </tr>\n",
       "    <tr>\n",
       "      <th>Gobelins</th>\n",
       "      <td>98.11</td>\n",
       "    </tr>\n",
       "    <tr>\n",
       "      <th>Popincourt</th>\n",
       "      <td>90.55</td>\n",
       "    </tr>\n",
       "    <tr>\n",
       "      <th>Reuilly</th>\n",
       "      <td>89.13</td>\n",
       "    </tr>\n",
       "    <tr>\n",
       "      <th>Buttes-Montmartre</th>\n",
       "      <td>87.25</td>\n",
       "    </tr>\n",
       "    <tr>\n",
       "      <th>Buttes-Chaumont</th>\n",
       "      <td>82.69</td>\n",
       "    </tr>\n",
       "    <tr>\n",
       "      <th>Menilmontant</th>\n",
       "      <td>74.93</td>\n",
       "    </tr>\n",
       "  </tbody>\n",
       "</table>\n",
       "</div>"
      ],
      "text/plain": [
       "                      price\n",
       "neighbourhood              \n",
       "Elysee               211.37\n",
       "Louvre               175.75\n",
       "Passy                161.29\n",
       "Palais-Bourbon       157.51\n",
       "Luxembourg           155.79\n",
       "Bourse               149.63\n",
       "Hotel-de-Ville       144.52\n",
       "Temple               138.43\n",
       "Pantheon             122.98\n",
       "Opera                119.20\n",
       "Vaugirard            107.09\n",
       "Enclos-St-Laurent    103.12\n",
       "Batignolles-Monceau  102.69\n",
       "Observatoire         102.00\n",
       "Gobelins              98.11\n",
       "Popincourt            90.55\n",
       "Reuilly               89.13\n",
       "Buttes-Montmartre     87.25\n",
       "Buttes-Chaumont       82.69\n",
       "Menilmontant          74.93"
      ]
     },
     "execution_count": 30,
     "metadata": {},
     "output_type": "execute_result"
    }
   ],
   "source": [
    "paris_listings_neighbourhood  "
   ]
  },
  {
   "cell_type": "markdown",
   "id": "aa81502d",
   "metadata": {
    "papermill": {
     "duration": 0.01719,
     "end_time": "2025-01-22T11:40:08.450542",
     "exception": false,
     "start_time": "2025-01-22T11:40:08.433352",
     "status": "completed"
    },
    "tags": []
   },
   "source": [
    "## **Displays the top 5 rows**"
   ]
  },
  {
   "cell_type": "code",
   "execution_count": 31,
   "id": "ada5afbb",
   "metadata": {
    "execution": {
     "iopub.execute_input": "2025-01-22T11:40:08.487596Z",
     "iopub.status.busy": "2025-01-22T11:40:08.487228Z",
     "iopub.status.idle": "2025-01-22T11:40:08.496272Z",
     "shell.execute_reply": "2025-01-22T11:40:08.495168Z"
    },
    "papermill": {
     "duration": 0.030278,
     "end_time": "2025-01-22T11:40:08.498204",
     "exception": false,
     "start_time": "2025-01-22T11:40:08.467926",
     "status": "completed"
    },
    "tags": []
   },
   "outputs": [
    {
     "data": {
      "text/html": [
       "<div>\n",
       "<style scoped>\n",
       "    .dataframe tbody tr th:only-of-type {\n",
       "        vertical-align: middle;\n",
       "    }\n",
       "\n",
       "    .dataframe tbody tr th {\n",
       "        vertical-align: top;\n",
       "    }\n",
       "\n",
       "    .dataframe thead th {\n",
       "        text-align: right;\n",
       "    }\n",
       "</style>\n",
       "<table border=\"1\" class=\"dataframe\">\n",
       "  <thead>\n",
       "    <tr style=\"text-align: right;\">\n",
       "      <th></th>\n",
       "      <th>price</th>\n",
       "    </tr>\n",
       "    <tr>\n",
       "      <th>neighbourhood</th>\n",
       "      <th></th>\n",
       "    </tr>\n",
       "  </thead>\n",
       "  <tbody>\n",
       "    <tr>\n",
       "      <th>Elysee</th>\n",
       "      <td>211.37</td>\n",
       "    </tr>\n",
       "    <tr>\n",
       "      <th>Louvre</th>\n",
       "      <td>175.75</td>\n",
       "    </tr>\n",
       "    <tr>\n",
       "      <th>Passy</th>\n",
       "      <td>161.29</td>\n",
       "    </tr>\n",
       "    <tr>\n",
       "      <th>Palais-Bourbon</th>\n",
       "      <td>157.51</td>\n",
       "    </tr>\n",
       "    <tr>\n",
       "      <th>Luxembourg</th>\n",
       "      <td>155.79</td>\n",
       "    </tr>\n",
       "  </tbody>\n",
       "</table>\n",
       "</div>"
      ],
      "text/plain": [
       "                 price\n",
       "neighbourhood         \n",
       "Elysee          211.37\n",
       "Louvre          175.75\n",
       "Passy           161.29\n",
       "Palais-Bourbon  157.51\n",
       "Luxembourg      155.79"
      ]
     },
     "execution_count": 31,
     "metadata": {},
     "output_type": "execute_result"
    }
   ],
   "source": [
    "paris_listings_neighbourhood.head()"
   ]
  },
  {
   "cell_type": "markdown",
   "id": "300460eb",
   "metadata": {
    "papermill": {
     "duration": 0.017028,
     "end_time": "2025-01-22T11:40:08.534051",
     "exception": false,
     "start_time": "2025-01-22T11:40:08.517023",
     "status": "completed"
    },
    "tags": []
   },
   "source": [
    "### **Displays the last 5 rows**"
   ]
  },
  {
   "cell_type": "code",
   "execution_count": 32,
   "id": "b6173156",
   "metadata": {
    "execution": {
     "iopub.execute_input": "2025-01-22T11:40:08.569874Z",
     "iopub.status.busy": "2025-01-22T11:40:08.569536Z",
     "iopub.status.idle": "2025-01-22T11:40:08.578077Z",
     "shell.execute_reply": "2025-01-22T11:40:08.576761Z"
    },
    "papermill": {
     "duration": 0.028388,
     "end_time": "2025-01-22T11:40:08.579660",
     "exception": false,
     "start_time": "2025-01-22T11:40:08.551272",
     "status": "completed"
    },
    "tags": []
   },
   "outputs": [
    {
     "data": {
      "text/html": [
       "<div>\n",
       "<style scoped>\n",
       "    .dataframe tbody tr th:only-of-type {\n",
       "        vertical-align: middle;\n",
       "    }\n",
       "\n",
       "    .dataframe tbody tr th {\n",
       "        vertical-align: top;\n",
       "    }\n",
       "\n",
       "    .dataframe thead th {\n",
       "        text-align: right;\n",
       "    }\n",
       "</style>\n",
       "<table border=\"1\" class=\"dataframe\">\n",
       "  <thead>\n",
       "    <tr style=\"text-align: right;\">\n",
       "      <th></th>\n",
       "      <th>price</th>\n",
       "    </tr>\n",
       "    <tr>\n",
       "      <th>neighbourhood</th>\n",
       "      <th></th>\n",
       "    </tr>\n",
       "  </thead>\n",
       "  <tbody>\n",
       "    <tr>\n",
       "      <th>Popincourt</th>\n",
       "      <td>90.55</td>\n",
       "    </tr>\n",
       "    <tr>\n",
       "      <th>Reuilly</th>\n",
       "      <td>89.13</td>\n",
       "    </tr>\n",
       "    <tr>\n",
       "      <th>Buttes-Montmartre</th>\n",
       "      <td>87.25</td>\n",
       "    </tr>\n",
       "    <tr>\n",
       "      <th>Buttes-Chaumont</th>\n",
       "      <td>82.69</td>\n",
       "    </tr>\n",
       "    <tr>\n",
       "      <th>Menilmontant</th>\n",
       "      <td>74.93</td>\n",
       "    </tr>\n",
       "  </tbody>\n",
       "</table>\n",
       "</div>"
      ],
      "text/plain": [
       "                   price\n",
       "neighbourhood           \n",
       "Popincourt         90.55\n",
       "Reuilly            89.13\n",
       "Buttes-Montmartre  87.25\n",
       "Buttes-Chaumont    82.69\n",
       "Menilmontant       74.93"
      ]
     },
     "execution_count": 32,
     "metadata": {},
     "output_type": "execute_result"
    }
   ],
   "source": [
    "paris_listings_neighbourhood.tail()"
   ]
  },
  {
   "cell_type": "markdown",
   "id": "bef82c8c",
   "metadata": {
    "papermill": {
     "duration": 0.017046,
     "end_time": "2025-01-22T11:40:08.614527",
     "exception": false,
     "start_time": "2025-01-22T11:40:08.597481",
     "status": "completed"
    },
    "tags": []
   },
   "source": [
    "### **Calculates and sorts the average price by accommodation capacity for the \"Elysee\" neighbourhood.**"
   ]
  },
  {
   "cell_type": "code",
   "execution_count": 33,
   "id": "dccd7473",
   "metadata": {
    "execution": {
     "iopub.execute_input": "2025-01-22T11:40:08.651800Z",
     "iopub.status.busy": "2025-01-22T11:40:08.651449Z",
     "iopub.status.idle": "2025-01-22T11:40:08.665596Z",
     "shell.execute_reply": "2025-01-22T11:40:08.664506Z"
    },
    "papermill": {
     "duration": 0.03584,
     "end_time": "2025-01-22T11:40:08.667554",
     "exception": false,
     "start_time": "2025-01-22T11:40:08.631714",
     "status": "completed"
    },
    "tags": []
   },
   "outputs": [],
   "source": [
    "paris_elysee_accomodates = paris_listings.query(\"neighbourhood =='Elysee'\").groupby(\"accommodates\").agg({\"price\":\"mean\"}).sort_values(\"price\",ascending=False).round(2)"
   ]
  },
  {
   "cell_type": "code",
   "execution_count": 34,
   "id": "82a3fb05",
   "metadata": {
    "execution": {
     "iopub.execute_input": "2025-01-22T11:40:08.704222Z",
     "iopub.status.busy": "2025-01-22T11:40:08.703796Z",
     "iopub.status.idle": "2025-01-22T11:40:08.713738Z",
     "shell.execute_reply": "2025-01-22T11:40:08.712378Z"
    },
    "papermill": {
     "duration": 0.030473,
     "end_time": "2025-01-22T11:40:08.715863",
     "exception": false,
     "start_time": "2025-01-22T11:40:08.685390",
     "status": "completed"
    },
    "tags": []
   },
   "outputs": [
    {
     "data": {
      "text/html": [
       "<div>\n",
       "<style scoped>\n",
       "    .dataframe tbody tr th:only-of-type {\n",
       "        vertical-align: middle;\n",
       "    }\n",
       "\n",
       "    .dataframe tbody tr th {\n",
       "        vertical-align: top;\n",
       "    }\n",
       "\n",
       "    .dataframe thead th {\n",
       "        text-align: right;\n",
       "    }\n",
       "</style>\n",
       "<table border=\"1\" class=\"dataframe\">\n",
       "  <thead>\n",
       "    <tr style=\"text-align: right;\">\n",
       "      <th></th>\n",
       "      <th>price</th>\n",
       "    </tr>\n",
       "    <tr>\n",
       "      <th>accommodates</th>\n",
       "      <th></th>\n",
       "    </tr>\n",
       "  </thead>\n",
       "  <tbody>\n",
       "    <tr>\n",
       "      <th>14</th>\n",
       "      <td>971.00</td>\n",
       "    </tr>\n",
       "    <tr>\n",
       "      <th>13</th>\n",
       "      <td>842.50</td>\n",
       "    </tr>\n",
       "    <tr>\n",
       "      <th>11</th>\n",
       "      <td>805.00</td>\n",
       "    </tr>\n",
       "    <tr>\n",
       "      <th>16</th>\n",
       "      <td>800.00</td>\n",
       "    </tr>\n",
       "    <tr>\n",
       "      <th>12</th>\n",
       "      <td>529.62</td>\n",
       "    </tr>\n",
       "    <tr>\n",
       "      <th>10</th>\n",
       "      <td>500.86</td>\n",
       "    </tr>\n",
       "    <tr>\n",
       "      <th>9</th>\n",
       "      <td>440.27</td>\n",
       "    </tr>\n",
       "    <tr>\n",
       "      <th>7</th>\n",
       "      <td>411.54</td>\n",
       "    </tr>\n",
       "    <tr>\n",
       "      <th>8</th>\n",
       "      <td>405.52</td>\n",
       "    </tr>\n",
       "    <tr>\n",
       "      <th>6</th>\n",
       "      <td>355.51</td>\n",
       "    </tr>\n",
       "    <tr>\n",
       "      <th>5</th>\n",
       "      <td>328.82</td>\n",
       "    </tr>\n",
       "    <tr>\n",
       "      <th>4</th>\n",
       "      <td>212.10</td>\n",
       "    </tr>\n",
       "    <tr>\n",
       "      <th>2</th>\n",
       "      <td>155.10</td>\n",
       "    </tr>\n",
       "    <tr>\n",
       "      <th>3</th>\n",
       "      <td>153.88</td>\n",
       "    </tr>\n",
       "    <tr>\n",
       "      <th>1</th>\n",
       "      <td>79.52</td>\n",
       "    </tr>\n",
       "  </tbody>\n",
       "</table>\n",
       "</div>"
      ],
      "text/plain": [
       "               price\n",
       "accommodates        \n",
       "14            971.00\n",
       "13            842.50\n",
       "11            805.00\n",
       "16            800.00\n",
       "12            529.62\n",
       "10            500.86\n",
       "9             440.27\n",
       "7             411.54\n",
       "8             405.52\n",
       "6             355.51\n",
       "5             328.82\n",
       "4             212.10\n",
       "2             155.10\n",
       "3             153.88\n",
       "1              79.52"
      ]
     },
     "execution_count": 34,
     "metadata": {},
     "output_type": "execute_result"
    }
   ],
   "source": [
    "paris_elysee_accomodates "
   ]
  },
  {
   "cell_type": "code",
   "execution_count": 35,
   "id": "7dc8164f",
   "metadata": {
    "execution": {
     "iopub.execute_input": "2025-01-22T11:40:08.755134Z",
     "iopub.status.busy": "2025-01-22T11:40:08.754737Z",
     "iopub.status.idle": "2025-01-22T11:40:08.767341Z",
     "shell.execute_reply": "2025-01-22T11:40:08.766172Z"
    },
    "papermill": {
     "duration": 0.033966,
     "end_time": "2025-01-22T11:40:08.769048",
     "exception": false,
     "start_time": "2025-01-22T11:40:08.735082",
     "status": "completed"
    },
    "tags": []
   },
   "outputs": [
    {
     "data": {
      "text/html": [
       "<div>\n",
       "<style scoped>\n",
       "    .dataframe tbody tr th:only-of-type {\n",
       "        vertical-align: middle;\n",
       "    }\n",
       "\n",
       "    .dataframe tbody tr th {\n",
       "        vertical-align: top;\n",
       "    }\n",
       "\n",
       "    .dataframe thead th {\n",
       "        text-align: right;\n",
       "    }\n",
       "</style>\n",
       "<table border=\"1\" class=\"dataframe\">\n",
       "  <thead>\n",
       "    <tr style=\"text-align: right;\">\n",
       "      <th></th>\n",
       "      <th>host_since</th>\n",
       "      <th>neighbourhood</th>\n",
       "      <th>city</th>\n",
       "      <th>accommodates</th>\n",
       "      <th>price</th>\n",
       "    </tr>\n",
       "  </thead>\n",
       "  <tbody>\n",
       "    <tr>\n",
       "      <th>0</th>\n",
       "      <td>2011-12-03</td>\n",
       "      <td>Buttes-Montmartre</td>\n",
       "      <td>Paris</td>\n",
       "      <td>2</td>\n",
       "      <td>53</td>\n",
       "    </tr>\n",
       "    <tr>\n",
       "      <th>1</th>\n",
       "      <td>2013-11-29</td>\n",
       "      <td>Buttes-Montmartre</td>\n",
       "      <td>Paris</td>\n",
       "      <td>2</td>\n",
       "      <td>120</td>\n",
       "    </tr>\n",
       "    <tr>\n",
       "      <th>2</th>\n",
       "      <td>2014-07-31</td>\n",
       "      <td>Elysee</td>\n",
       "      <td>Paris</td>\n",
       "      <td>2</td>\n",
       "      <td>89</td>\n",
       "    </tr>\n",
       "    <tr>\n",
       "      <th>3</th>\n",
       "      <td>2013-12-17</td>\n",
       "      <td>Vaugirard</td>\n",
       "      <td>Paris</td>\n",
       "      <td>2</td>\n",
       "      <td>58</td>\n",
       "    </tr>\n",
       "    <tr>\n",
       "      <th>4</th>\n",
       "      <td>2014-12-14</td>\n",
       "      <td>Passy</td>\n",
       "      <td>Paris</td>\n",
       "      <td>2</td>\n",
       "      <td>60</td>\n",
       "    </tr>\n",
       "    <tr>\n",
       "      <th>...</th>\n",
       "      <td>...</td>\n",
       "      <td>...</td>\n",
       "      <td>...</td>\n",
       "      <td>...</td>\n",
       "      <td>...</td>\n",
       "    </tr>\n",
       "    <tr>\n",
       "      <th>279707</th>\n",
       "      <td>2015-04-13</td>\n",
       "      <td>Observatoire</td>\n",
       "      <td>Paris</td>\n",
       "      <td>2</td>\n",
       "      <td>120</td>\n",
       "    </tr>\n",
       "    <tr>\n",
       "      <th>279708</th>\n",
       "      <td>2013-11-27</td>\n",
       "      <td>Buttes-Montmartre</td>\n",
       "      <td>Paris</td>\n",
       "      <td>2</td>\n",
       "      <td>60</td>\n",
       "    </tr>\n",
       "    <tr>\n",
       "      <th>279709</th>\n",
       "      <td>2012-04-27</td>\n",
       "      <td>Buttes-Montmartre</td>\n",
       "      <td>Paris</td>\n",
       "      <td>2</td>\n",
       "      <td>50</td>\n",
       "    </tr>\n",
       "    <tr>\n",
       "      <th>279710</th>\n",
       "      <td>2015-07-16</td>\n",
       "      <td>Popincourt</td>\n",
       "      <td>Paris</td>\n",
       "      <td>2</td>\n",
       "      <td>105</td>\n",
       "    </tr>\n",
       "    <tr>\n",
       "      <th>279711</th>\n",
       "      <td>2013-06-17</td>\n",
       "      <td>Enclos-St-Laurent</td>\n",
       "      <td>Paris</td>\n",
       "      <td>2</td>\n",
       "      <td>70</td>\n",
       "    </tr>\n",
       "  </tbody>\n",
       "</table>\n",
       "<p>64595 rows × 5 columns</p>\n",
       "</div>"
      ],
      "text/plain": [
       "       host_since      neighbourhood   city  accommodates  price\n",
       "0      2011-12-03  Buttes-Montmartre  Paris             2     53\n",
       "1      2013-11-29  Buttes-Montmartre  Paris             2    120\n",
       "2      2014-07-31             Elysee  Paris             2     89\n",
       "3      2013-12-17          Vaugirard  Paris             2     58\n",
       "4      2014-12-14              Passy  Paris             2     60\n",
       "...           ...                ...    ...           ...    ...\n",
       "279707 2015-04-13       Observatoire  Paris             2    120\n",
       "279708 2013-11-27  Buttes-Montmartre  Paris             2     60\n",
       "279709 2012-04-27  Buttes-Montmartre  Paris             2     50\n",
       "279710 2015-07-16         Popincourt  Paris             2    105\n",
       "279711 2013-06-17  Enclos-St-Laurent  Paris             2     70\n",
       "\n",
       "[64595 rows x 5 columns]"
      ]
     },
     "execution_count": 35,
     "metadata": {},
     "output_type": "execute_result"
    }
   ],
   "source": [
    "paris_listings"
   ]
  },
  {
   "cell_type": "code",
   "execution_count": 36,
   "id": "92a7abe5",
   "metadata": {
    "execution": {
     "iopub.execute_input": "2025-01-22T11:40:08.806469Z",
     "iopub.status.busy": "2025-01-22T11:40:08.806121Z",
     "iopub.status.idle": "2025-01-22T11:40:08.813346Z",
     "shell.execute_reply": "2025-01-22T11:40:08.812259Z"
    },
    "papermill": {
     "duration": 0.027922,
     "end_time": "2025-01-22T11:40:08.815142",
     "exception": false,
     "start_time": "2025-01-22T11:40:08.787220",
     "status": "completed"
    },
    "tags": []
   },
   "outputs": [
    {
     "data": {
      "text/plain": [
       "3854"
      ]
     },
     "execution_count": 36,
     "metadata": {},
     "output_type": "execute_result"
    }
   ],
   "source": [
    "paris_listings[\"host_since\"].nunique()      #Counts the number of unique values"
   ]
  },
  {
   "cell_type": "code",
   "execution_count": 37,
   "id": "52de551c",
   "metadata": {
    "execution": {
     "iopub.execute_input": "2025-01-22T11:40:08.852330Z",
     "iopub.status.busy": "2025-01-22T11:40:08.851938Z",
     "iopub.status.idle": "2025-01-22T11:40:08.862067Z",
     "shell.execute_reply": "2025-01-22T11:40:08.861074Z"
    },
    "papermill": {
     "duration": 0.030491,
     "end_time": "2025-01-22T11:40:08.863804",
     "exception": false,
     "start_time": "2025-01-22T11:40:08.833313",
     "status": "completed"
    },
    "tags": []
   },
   "outputs": [
    {
     "data": {
      "text/html": [
       "<div>\n",
       "<style scoped>\n",
       "    .dataframe tbody tr th:only-of-type {\n",
       "        vertical-align: middle;\n",
       "    }\n",
       "\n",
       "    .dataframe tbody tr th {\n",
       "        vertical-align: top;\n",
       "    }\n",
       "\n",
       "    .dataframe thead th {\n",
       "        text-align: right;\n",
       "    }\n",
       "</style>\n",
       "<table border=\"1\" class=\"dataframe\">\n",
       "  <thead>\n",
       "    <tr style=\"text-align: right;\">\n",
       "      <th></th>\n",
       "      <th>host_since</th>\n",
       "      <th>neighbourhood</th>\n",
       "      <th>city</th>\n",
       "      <th>accommodates</th>\n",
       "      <th>price</th>\n",
       "    </tr>\n",
       "  </thead>\n",
       "  <tbody>\n",
       "    <tr>\n",
       "      <th>0</th>\n",
       "      <td>2011-12-03</td>\n",
       "      <td>Buttes-Montmartre</td>\n",
       "      <td>Paris</td>\n",
       "      <td>2</td>\n",
       "      <td>53</td>\n",
       "    </tr>\n",
       "    <tr>\n",
       "      <th>1</th>\n",
       "      <td>2013-11-29</td>\n",
       "      <td>Buttes-Montmartre</td>\n",
       "      <td>Paris</td>\n",
       "      <td>2</td>\n",
       "      <td>120</td>\n",
       "    </tr>\n",
       "    <tr>\n",
       "      <th>2</th>\n",
       "      <td>2014-07-31</td>\n",
       "      <td>Elysee</td>\n",
       "      <td>Paris</td>\n",
       "      <td>2</td>\n",
       "      <td>89</td>\n",
       "    </tr>\n",
       "    <tr>\n",
       "      <th>3</th>\n",
       "      <td>2013-12-17</td>\n",
       "      <td>Vaugirard</td>\n",
       "      <td>Paris</td>\n",
       "      <td>2</td>\n",
       "      <td>58</td>\n",
       "    </tr>\n",
       "    <tr>\n",
       "      <th>4</th>\n",
       "      <td>2014-12-14</td>\n",
       "      <td>Passy</td>\n",
       "      <td>Paris</td>\n",
       "      <td>2</td>\n",
       "      <td>60</td>\n",
       "    </tr>\n",
       "  </tbody>\n",
       "</table>\n",
       "</div>"
      ],
      "text/plain": [
       "  host_since      neighbourhood   city  accommodates  price\n",
       "0 2011-12-03  Buttes-Montmartre  Paris             2     53\n",
       "1 2013-11-29  Buttes-Montmartre  Paris             2    120\n",
       "2 2014-07-31             Elysee  Paris             2     89\n",
       "3 2013-12-17          Vaugirard  Paris             2     58\n",
       "4 2014-12-14              Passy  Paris             2     60"
      ]
     },
     "execution_count": 37,
     "metadata": {},
     "output_type": "execute_result"
    }
   ],
   "source": [
    "paris_listings.head()"
   ]
  },
  {
   "cell_type": "markdown",
   "id": "06c6fe7e",
   "metadata": {
    "papermill": {
     "duration": 0.017862,
     "end_time": "2025-01-22T11:40:08.900054",
     "exception": false,
     "start_time": "2025-01-22T11:40:08.882192",
     "status": "completed"
    },
    "tags": []
   },
   "source": [
    "### **Resamples data by year, counting listings and calculating the average price per year.**"
   ]
  },
  {
   "cell_type": "code",
   "execution_count": 38,
   "id": "9bd68ebe",
   "metadata": {
    "execution": {
     "iopub.execute_input": "2025-01-22T11:40:08.938502Z",
     "iopub.status.busy": "2025-01-22T11:40:08.938166Z",
     "iopub.status.idle": "2025-01-22T11:40:08.985964Z",
     "shell.execute_reply": "2025-01-22T11:40:08.985000Z"
    },
    "papermill": {
     "duration": 0.069717,
     "end_time": "2025-01-22T11:40:08.987969",
     "exception": false,
     "start_time": "2025-01-22T11:40:08.918252",
     "status": "completed"
    },
    "tags": []
   },
   "outputs": [],
   "source": [
    "paris_listings_over_time = paris_listings.set_index(\"host_since\").resample(\"Y\").agg({\"neighbourhood\":\"count\",\"price\":\"mean\"})"
   ]
  },
  {
   "cell_type": "code",
   "execution_count": 39,
   "id": "6604d17f",
   "metadata": {
    "execution": {
     "iopub.execute_input": "2025-01-22T11:40:09.027327Z",
     "iopub.status.busy": "2025-01-22T11:40:09.026917Z",
     "iopub.status.idle": "2025-01-22T11:40:09.036337Z",
     "shell.execute_reply": "2025-01-22T11:40:09.035139Z"
    },
    "papermill": {
     "duration": 0.031613,
     "end_time": "2025-01-22T11:40:09.038445",
     "exception": false,
     "start_time": "2025-01-22T11:40:09.006832",
     "status": "completed"
    },
    "tags": []
   },
   "outputs": [
    {
     "data": {
      "text/html": [
       "<div>\n",
       "<style scoped>\n",
       "    .dataframe tbody tr th:only-of-type {\n",
       "        vertical-align: middle;\n",
       "    }\n",
       "\n",
       "    .dataframe tbody tr th {\n",
       "        vertical-align: top;\n",
       "    }\n",
       "\n",
       "    .dataframe thead th {\n",
       "        text-align: right;\n",
       "    }\n",
       "</style>\n",
       "<table border=\"1\" class=\"dataframe\">\n",
       "  <thead>\n",
       "    <tr style=\"text-align: right;\">\n",
       "      <th></th>\n",
       "      <th>neighbourhood</th>\n",
       "      <th>price</th>\n",
       "    </tr>\n",
       "    <tr>\n",
       "      <th>host_since</th>\n",
       "      <th></th>\n",
       "      <th></th>\n",
       "    </tr>\n",
       "  </thead>\n",
       "  <tbody>\n",
       "    <tr>\n",
       "      <th>2008-12-31</th>\n",
       "      <td>4</td>\n",
       "      <td>77.750000</td>\n",
       "    </tr>\n",
       "    <tr>\n",
       "      <th>2009-12-31</th>\n",
       "      <td>106</td>\n",
       "      <td>159.641509</td>\n",
       "    </tr>\n",
       "    <tr>\n",
       "      <th>2010-12-31</th>\n",
       "      <td>416</td>\n",
       "      <td>125.031250</td>\n",
       "    </tr>\n",
       "    <tr>\n",
       "      <th>2011-12-31</th>\n",
       "      <td>1339</td>\n",
       "      <td>124.828230</td>\n",
       "    </tr>\n",
       "    <tr>\n",
       "      <th>2012-12-31</th>\n",
       "      <td>4592</td>\n",
       "      <td>111.578615</td>\n",
       "    </tr>\n",
       "    <tr>\n",
       "      <th>2013-12-31</th>\n",
       "      <td>8142</td>\n",
       "      <td>107.096414</td>\n",
       "    </tr>\n",
       "    <tr>\n",
       "      <th>2014-12-31</th>\n",
       "      <td>10922</td>\n",
       "      <td>100.253800</td>\n",
       "    </tr>\n",
       "    <tr>\n",
       "      <th>2015-12-31</th>\n",
       "      <td>12147</td>\n",
       "      <td>103.646250</td>\n",
       "    </tr>\n",
       "    <tr>\n",
       "      <th>2016-12-31</th>\n",
       "      <td>8867</td>\n",
       "      <td>114.211345</td>\n",
       "    </tr>\n",
       "    <tr>\n",
       "      <th>2017-12-31</th>\n",
       "      <td>4585</td>\n",
       "      <td>108.658888</td>\n",
       "    </tr>\n",
       "    <tr>\n",
       "      <th>2018-12-31</th>\n",
       "      <td>4294</td>\n",
       "      <td>138.209362</td>\n",
       "    </tr>\n",
       "    <tr>\n",
       "      <th>2019-12-31</th>\n",
       "      <td>5685</td>\n",
       "      <td>129.962533</td>\n",
       "    </tr>\n",
       "    <tr>\n",
       "      <th>2020-12-31</th>\n",
       "      <td>3363</td>\n",
       "      <td>143.517098</td>\n",
       "    </tr>\n",
       "    <tr>\n",
       "      <th>2021-12-31</th>\n",
       "      <td>133</td>\n",
       "      <td>93.488722</td>\n",
       "    </tr>\n",
       "  </tbody>\n",
       "</table>\n",
       "</div>"
      ],
      "text/plain": [
       "            neighbourhood       price\n",
       "host_since                           \n",
       "2008-12-31              4   77.750000\n",
       "2009-12-31            106  159.641509\n",
       "2010-12-31            416  125.031250\n",
       "2011-12-31           1339  124.828230\n",
       "2012-12-31           4592  111.578615\n",
       "2013-12-31           8142  107.096414\n",
       "2014-12-31          10922  100.253800\n",
       "2015-12-31          12147  103.646250\n",
       "2016-12-31           8867  114.211345\n",
       "2017-12-31           4585  108.658888\n",
       "2018-12-31           4294  138.209362\n",
       "2019-12-31           5685  129.962533\n",
       "2020-12-31           3363  143.517098\n",
       "2021-12-31            133   93.488722"
      ]
     },
     "execution_count": 39,
     "metadata": {},
     "output_type": "execute_result"
    }
   ],
   "source": [
    "paris_listings_over_time"
   ]
  },
  {
   "cell_type": "markdown",
   "id": "d104113f",
   "metadata": {
    "papermill": {
     "duration": 0.018299,
     "end_time": "2025-01-22T11:40:09.076323",
     "exception": false,
     "start_time": "2025-01-22T11:40:09.058024",
     "status": "completed"
    },
    "tags": []
   },
   "source": [
    " # **Imports libraries**"
   ]
  },
  {
   "cell_type": "code",
   "execution_count": 40,
   "id": "fbcbee26",
   "metadata": {
    "execution": {
     "iopub.execute_input": "2025-01-22T11:40:09.115749Z",
     "iopub.status.busy": "2025-01-22T11:40:09.115361Z",
     "iopub.status.idle": "2025-01-22T11:40:10.690268Z",
     "shell.execute_reply": "2025-01-22T11:40:10.689201Z"
    },
    "papermill": {
     "duration": 1.596935,
     "end_time": "2025-01-22T11:40:10.692117",
     "exception": false,
     "start_time": "2025-01-22T11:40:09.095182",
     "status": "completed"
    },
    "tags": []
   },
   "outputs": [],
   "source": [
    "import matplotlib.pyplot as plt\n",
    "import seaborn as sns"
   ]
  },
  {
   "cell_type": "code",
   "execution_count": 41,
   "id": "b409b87f",
   "metadata": {
    "execution": {
     "iopub.execute_input": "2025-01-22T11:40:10.732783Z",
     "iopub.status.busy": "2025-01-22T11:40:10.732292Z",
     "iopub.status.idle": "2025-01-22T11:40:10.742255Z",
     "shell.execute_reply": "2025-01-22T11:40:10.741074Z"
    },
    "papermill": {
     "duration": 0.031768,
     "end_time": "2025-01-22T11:40:10.743936",
     "exception": false,
     "start_time": "2025-01-22T11:40:10.712168",
     "status": "completed"
    },
    "tags": []
   },
   "outputs": [
    {
     "data": {
      "text/html": [
       "<div>\n",
       "<style scoped>\n",
       "    .dataframe tbody tr th:only-of-type {\n",
       "        vertical-align: middle;\n",
       "    }\n",
       "\n",
       "    .dataframe tbody tr th {\n",
       "        vertical-align: top;\n",
       "    }\n",
       "\n",
       "    .dataframe thead th {\n",
       "        text-align: right;\n",
       "    }\n",
       "</style>\n",
       "<table border=\"1\" class=\"dataframe\">\n",
       "  <thead>\n",
       "    <tr style=\"text-align: right;\">\n",
       "      <th></th>\n",
       "      <th>price</th>\n",
       "    </tr>\n",
       "    <tr>\n",
       "      <th>neighbourhood</th>\n",
       "      <th></th>\n",
       "    </tr>\n",
       "  </thead>\n",
       "  <tbody>\n",
       "    <tr>\n",
       "      <th>Elysee</th>\n",
       "      <td>211.37</td>\n",
       "    </tr>\n",
       "    <tr>\n",
       "      <th>Louvre</th>\n",
       "      <td>175.75</td>\n",
       "    </tr>\n",
       "    <tr>\n",
       "      <th>Passy</th>\n",
       "      <td>161.29</td>\n",
       "    </tr>\n",
       "    <tr>\n",
       "      <th>Palais-Bourbon</th>\n",
       "      <td>157.51</td>\n",
       "    </tr>\n",
       "    <tr>\n",
       "      <th>Luxembourg</th>\n",
       "      <td>155.79</td>\n",
       "    </tr>\n",
       "    <tr>\n",
       "      <th>Bourse</th>\n",
       "      <td>149.63</td>\n",
       "    </tr>\n",
       "    <tr>\n",
       "      <th>Hotel-de-Ville</th>\n",
       "      <td>144.52</td>\n",
       "    </tr>\n",
       "    <tr>\n",
       "      <th>Temple</th>\n",
       "      <td>138.43</td>\n",
       "    </tr>\n",
       "    <tr>\n",
       "      <th>Pantheon</th>\n",
       "      <td>122.98</td>\n",
       "    </tr>\n",
       "    <tr>\n",
       "      <th>Opera</th>\n",
       "      <td>119.20</td>\n",
       "    </tr>\n",
       "    <tr>\n",
       "      <th>Vaugirard</th>\n",
       "      <td>107.09</td>\n",
       "    </tr>\n",
       "    <tr>\n",
       "      <th>Enclos-St-Laurent</th>\n",
       "      <td>103.12</td>\n",
       "    </tr>\n",
       "    <tr>\n",
       "      <th>Batignolles-Monceau</th>\n",
       "      <td>102.69</td>\n",
       "    </tr>\n",
       "    <tr>\n",
       "      <th>Observatoire</th>\n",
       "      <td>102.00</td>\n",
       "    </tr>\n",
       "    <tr>\n",
       "      <th>Gobelins</th>\n",
       "      <td>98.11</td>\n",
       "    </tr>\n",
       "    <tr>\n",
       "      <th>Popincourt</th>\n",
       "      <td>90.55</td>\n",
       "    </tr>\n",
       "    <tr>\n",
       "      <th>Reuilly</th>\n",
       "      <td>89.13</td>\n",
       "    </tr>\n",
       "    <tr>\n",
       "      <th>Buttes-Montmartre</th>\n",
       "      <td>87.25</td>\n",
       "    </tr>\n",
       "    <tr>\n",
       "      <th>Buttes-Chaumont</th>\n",
       "      <td>82.69</td>\n",
       "    </tr>\n",
       "    <tr>\n",
       "      <th>Menilmontant</th>\n",
       "      <td>74.93</td>\n",
       "    </tr>\n",
       "  </tbody>\n",
       "</table>\n",
       "</div>"
      ],
      "text/plain": [
       "                      price\n",
       "neighbourhood              \n",
       "Elysee               211.37\n",
       "Louvre               175.75\n",
       "Passy                161.29\n",
       "Palais-Bourbon       157.51\n",
       "Luxembourg           155.79\n",
       "Bourse               149.63\n",
       "Hotel-de-Ville       144.52\n",
       "Temple               138.43\n",
       "Pantheon             122.98\n",
       "Opera                119.20\n",
       "Vaugirard            107.09\n",
       "Enclos-St-Laurent    103.12\n",
       "Batignolles-Monceau  102.69\n",
       "Observatoire         102.00\n",
       "Gobelins              98.11\n",
       "Popincourt            90.55\n",
       "Reuilly               89.13\n",
       "Buttes-Montmartre     87.25\n",
       "Buttes-Chaumont       82.69\n",
       "Menilmontant          74.93"
      ]
     },
     "execution_count": 41,
     "metadata": {},
     "output_type": "execute_result"
    }
   ],
   "source": [
    "paris_listings_neighbourhood"
   ]
  },
  {
   "cell_type": "markdown",
   "id": "8266664c",
   "metadata": {
    "papermill": {
     "duration": 0.018837,
     "end_time": "2025-01-22T11:40:10.782017",
     "exception": false,
     "start_time": "2025-01-22T11:40:10.763180",
     "status": "completed"
    },
    "tags": []
   },
   "source": [
    "#### **Creates a bar plot showing the average price by neighbourhood in Paris, with prominent areas at the top. Customizes the plot with a title, labels, and removes the grid.**"
   ]
  },
  {
   "cell_type": "code",
   "execution_count": 42,
   "id": "44025eb0",
   "metadata": {
    "execution": {
     "iopub.execute_input": "2025-01-22T11:40:10.820189Z",
     "iopub.status.busy": "2025-01-22T11:40:10.819802Z",
     "iopub.status.idle": "2025-01-22T11:40:11.273398Z",
     "shell.execute_reply": "2025-01-22T11:40:11.272105Z"
    },
    "papermill": {
     "duration": 0.474762,
     "end_time": "2025-01-22T11:40:11.275227",
     "exception": false,
     "start_time": "2025-01-22T11:40:10.800465",
     "status": "completed"
    },
    "tags": []
   },
   "outputs": [
    {
     "data": {
      "text/plain": [
       "<function matplotlib.pyplot.show(close=None, block=None)>"
      ]
     },
     "execution_count": 42,
     "metadata": {},
     "output_type": "execute_result"
    },
    {
     "data": {
      "image/png": "[encoded data removed]",
      "text/plain": [
       "<Figure size 1000x800 with 1 Axes>"
      ]
     },
     "metadata": {},
     "output_type": "display_data"
    }
   ],
   "source": [
    "plt.figure(figsize=(10,8))\n",
    "sns.barplot(data = paris_listings_neighbourhood, x =\"price\",y = paris_listings_neighbourhood.index,color=\"#E82561\")\n",
    "plt.title(\"neighbourhood in Paris( premium ones at the Top !)\")\n",
    "plt.xlabel(\"How Expensive? (Euros)\")\n",
    "plt.ylabel(\" Prominent Places With AirBnBs\")\n",
    "plt.grid(False)\n",
    "plt.show"
   ]
  },
  {
   "cell_type": "markdown",
   "id": "0f9c139e",
   "metadata": {
    "execution": {
     "iopub.execute_input": "2025-01-22T09:51:07.380203Z",
     "iopub.status.busy": "2025-01-22T09:51:07.379874Z",
     "iopub.status.idle": "2025-01-22T09:51:07.384730Z",
     "shell.execute_reply": "2025-01-22T09:51:07.383410Z",
     "shell.execute_reply.started": "2025-01-22T09:51:07.380176Z"
    },
    "papermill": {
     "duration": 0.020078,
     "end_time": "2025-01-22T11:40:11.316296",
     "exception": false,
     "start_time": "2025-01-22T11:40:11.296218",
     "status": "completed"
    },
    "tags": []
   },
   "source": [
    " #   Inside of Paris ,the price of AirBnBs is directly impacted by the popularity of the tourist place or \n",
    " #   the  view of Eiffle tower. WE need to further see if the price are Increasing when the regulations are imposed."
   ]
  },
  {
   "cell_type": "code",
   "execution_count": 43,
   "id": "81f3d202",
   "metadata": {
    "execution": {
     "iopub.execute_input": "2025-01-22T11:40:11.359879Z",
     "iopub.status.busy": "2025-01-22T11:40:11.359484Z",
     "iopub.status.idle": "2025-01-22T11:40:11.370009Z",
     "shell.execute_reply": "2025-01-22T11:40:11.368921Z"
    },
    "papermill": {
     "duration": 0.034834,
     "end_time": "2025-01-22T11:40:11.371672",
     "exception": false,
     "start_time": "2025-01-22T11:40:11.336838",
     "status": "completed"
    },
    "tags": []
   },
   "outputs": [
    {
     "data": {
      "text/html": [
       "<div>\n",
       "<style scoped>\n",
       "    .dataframe tbody tr th:only-of-type {\n",
       "        vertical-align: middle;\n",
       "    }\n",
       "\n",
       "    .dataframe tbody tr th {\n",
       "        vertical-align: top;\n",
       "    }\n",
       "\n",
       "    .dataframe thead th {\n",
       "        text-align: right;\n",
       "    }\n",
       "</style>\n",
       "<table border=\"1\" class=\"dataframe\">\n",
       "  <thead>\n",
       "    <tr style=\"text-align: right;\">\n",
       "      <th></th>\n",
       "      <th>price</th>\n",
       "    </tr>\n",
       "    <tr>\n",
       "      <th>accommodates</th>\n",
       "      <th></th>\n",
       "    </tr>\n",
       "  </thead>\n",
       "  <tbody>\n",
       "    <tr>\n",
       "      <th>14</th>\n",
       "      <td>971.00</td>\n",
       "    </tr>\n",
       "    <tr>\n",
       "      <th>13</th>\n",
       "      <td>842.50</td>\n",
       "    </tr>\n",
       "    <tr>\n",
       "      <th>11</th>\n",
       "      <td>805.00</td>\n",
       "    </tr>\n",
       "    <tr>\n",
       "      <th>16</th>\n",
       "      <td>800.00</td>\n",
       "    </tr>\n",
       "    <tr>\n",
       "      <th>12</th>\n",
       "      <td>529.62</td>\n",
       "    </tr>\n",
       "    <tr>\n",
       "      <th>10</th>\n",
       "      <td>500.86</td>\n",
       "    </tr>\n",
       "    <tr>\n",
       "      <th>9</th>\n",
       "      <td>440.27</td>\n",
       "    </tr>\n",
       "    <tr>\n",
       "      <th>7</th>\n",
       "      <td>411.54</td>\n",
       "    </tr>\n",
       "    <tr>\n",
       "      <th>8</th>\n",
       "      <td>405.52</td>\n",
       "    </tr>\n",
       "    <tr>\n",
       "      <th>6</th>\n",
       "      <td>355.51</td>\n",
       "    </tr>\n",
       "    <tr>\n",
       "      <th>5</th>\n",
       "      <td>328.82</td>\n",
       "    </tr>\n",
       "    <tr>\n",
       "      <th>4</th>\n",
       "      <td>212.10</td>\n",
       "    </tr>\n",
       "    <tr>\n",
       "      <th>2</th>\n",
       "      <td>155.10</td>\n",
       "    </tr>\n",
       "    <tr>\n",
       "      <th>3</th>\n",
       "      <td>153.88</td>\n",
       "    </tr>\n",
       "    <tr>\n",
       "      <th>1</th>\n",
       "      <td>79.52</td>\n",
       "    </tr>\n",
       "  </tbody>\n",
       "</table>\n",
       "</div>"
      ],
      "text/plain": [
       "               price\n",
       "accommodates        \n",
       "14            971.00\n",
       "13            842.50\n",
       "11            805.00\n",
       "16            800.00\n",
       "12            529.62\n",
       "10            500.86\n",
       "9             440.27\n",
       "7             411.54\n",
       "8             405.52\n",
       "6             355.51\n",
       "5             328.82\n",
       "4             212.10\n",
       "2             155.10\n",
       "3             153.88\n",
       "1              79.52"
      ]
     },
     "execution_count": 43,
     "metadata": {},
     "output_type": "execute_result"
    }
   ],
   "source": [
    "paris_elysee_accomodates "
   ]
  },
  {
   "cell_type": "markdown",
   "id": "c6ed9ce9",
   "metadata": {
    "papermill": {
     "duration": 0.02077,
     "end_time": "2025-01-22T11:40:11.413541",
     "exception": false,
     "start_time": "2025-01-22T11:40:11.392771",
     "status": "completed"
    },
    "tags": []
   },
   "source": [
    "### **Plots average Airbnb price in Elysee by accommodation capacity, with custom labels and no grid.**"
   ]
  },
  {
   "cell_type": "code",
   "execution_count": 44,
   "id": "9ac11477",
   "metadata": {
    "execution": {
     "iopub.execute_input": "2025-01-22T11:40:11.456345Z",
     "iopub.status.busy": "2025-01-22T11:40:11.455984Z",
     "iopub.status.idle": "2025-01-22T11:40:11.829560Z",
     "shell.execute_reply": "2025-01-22T11:40:11.828360Z"
    },
    "papermill": {
     "duration": 0.396697,
     "end_time": "2025-01-22T11:40:11.831374",
     "exception": false,
     "start_time": "2025-01-22T11:40:11.434677",
     "status": "completed"
    },
    "tags": []
   },
   "outputs": [
    {
     "data": {
      "text/plain": [
       "<function matplotlib.pyplot.show(close=None, block=None)>"
      ]
     },
     "execution_count": 44,
     "metadata": {},
     "output_type": "execute_result"
    },
    {
     "data": {
      "image/png": "[encoded data removed]",
      "text/plain": [
       "<Figure size 1000x800 with 1 Axes>"
      ]
     },
     "metadata": {},
     "output_type": "display_data"
    }
   ],
   "source": [
    "plt.figure(figsize=(10,8))\n",
    "sns.barplot(data = paris_elysee_accomodates,\n",
    "            x = \"price\",\n",
    "            y = paris_elysee_accomodates.index,\n",
    "            color=\"navy\",orient=\"h\",order = paris_elysee_accomodates.index)\n",
    "plt.title(\" Average Price of AirBnBs in Elysee --VS-- Number of People that can Stey  \")\n",
    "plt.xlabel(\"How Expensive? (Euros)\")\n",
    "plt.ylabel(\"Number of People that can Stey\")\n",
    "plt.grid(False)\n",
    "plt.show"
   ]
  },
  {
   "cell_type": "markdown",
   "id": "67527c0c",
   "metadata": {
    "execution": {
     "iopub.execute_input": "2025-01-22T09:51:12.625580Z",
     "iopub.status.busy": "2025-01-22T09:51:12.625224Z",
     "iopub.status.idle": "2025-01-22T09:51:12.629389Z",
     "shell.execute_reply": "2025-01-22T09:51:12.628387Z",
     "shell.execute_reply.started": "2025-01-22T09:51:12.625553Z"
    },
    "papermill": {
     "duration": 0.020988,
     "end_time": "2025-01-22T11:40:11.873761",
     "exception": false,
     "start_time": "2025-01-22T11:40:11.852773",
     "status": "completed"
    },
    "tags": []
   },
   "source": [
    "##  The AirBnBs with 14 People Accomodations is the costiest, even costier than 16 Accomodates.\n",
    "##  The same Trend is  spotted for 11 and 12 Accomodates. Every other Accomodations  looks reasonable."
   ]
  },
  {
   "cell_type": "markdown",
   "id": "22e6c2d9",
   "metadata": {
    "papermill": {
     "duration": 0.020591,
     "end_time": "2025-01-22T11:40:11.915655",
     "exception": false,
     "start_time": "2025-01-22T11:40:11.895064",
     "status": "completed"
    },
    "tags": []
   },
   "source": [
    "# possible reasons for this trends\n",
    "\n",
    "1. Owers of propertites with 14 peoples might be face occupancy issues due to less number of large Groups.\n",
    "2. The ones with 14 people might be a sweet spot for a group having two families travelling.\n",
    "3. Thers is possibility that more 16 and 12 occupancy properties are away for hostpots in Elysee.\n",
    "4. there might be potential outliers in 11 and 14  occupancy properties which are skewing the Trend. "
   ]
  },
  {
   "cell_type": "code",
   "execution_count": 45,
   "id": "01e1216f",
   "metadata": {
    "execution": {
     "iopub.execute_input": "2025-01-22T11:40:11.959562Z",
     "iopub.status.busy": "2025-01-22T11:40:11.959169Z",
     "iopub.status.idle": "2025-01-22T11:40:11.968726Z",
     "shell.execute_reply": "2025-01-22T11:40:11.967707Z"
    },
    "papermill": {
     "duration": 0.033574,
     "end_time": "2025-01-22T11:40:11.970514",
     "exception": false,
     "start_time": "2025-01-22T11:40:11.936940",
     "status": "completed"
    },
    "tags": []
   },
   "outputs": [
    {
     "data": {
      "text/html": [
       "<div>\n",
       "<style scoped>\n",
       "    .dataframe tbody tr th:only-of-type {\n",
       "        vertical-align: middle;\n",
       "    }\n",
       "\n",
       "    .dataframe tbody tr th {\n",
       "        vertical-align: top;\n",
       "    }\n",
       "\n",
       "    .dataframe thead th {\n",
       "        text-align: right;\n",
       "    }\n",
       "</style>\n",
       "<table border=\"1\" class=\"dataframe\">\n",
       "  <thead>\n",
       "    <tr style=\"text-align: right;\">\n",
       "      <th></th>\n",
       "      <th>neighbourhood</th>\n",
       "      <th>price</th>\n",
       "    </tr>\n",
       "    <tr>\n",
       "      <th>host_since</th>\n",
       "      <th></th>\n",
       "      <th></th>\n",
       "    </tr>\n",
       "  </thead>\n",
       "  <tbody>\n",
       "    <tr>\n",
       "      <th>2008-12-31</th>\n",
       "      <td>4</td>\n",
       "      <td>77.750000</td>\n",
       "    </tr>\n",
       "    <tr>\n",
       "      <th>2009-12-31</th>\n",
       "      <td>106</td>\n",
       "      <td>159.641509</td>\n",
       "    </tr>\n",
       "    <tr>\n",
       "      <th>2010-12-31</th>\n",
       "      <td>416</td>\n",
       "      <td>125.031250</td>\n",
       "    </tr>\n",
       "    <tr>\n",
       "      <th>2011-12-31</th>\n",
       "      <td>1339</td>\n",
       "      <td>124.828230</td>\n",
       "    </tr>\n",
       "    <tr>\n",
       "      <th>2012-12-31</th>\n",
       "      <td>4592</td>\n",
       "      <td>111.578615</td>\n",
       "    </tr>\n",
       "    <tr>\n",
       "      <th>2013-12-31</th>\n",
       "      <td>8142</td>\n",
       "      <td>107.096414</td>\n",
       "    </tr>\n",
       "    <tr>\n",
       "      <th>2014-12-31</th>\n",
       "      <td>10922</td>\n",
       "      <td>100.253800</td>\n",
       "    </tr>\n",
       "    <tr>\n",
       "      <th>2015-12-31</th>\n",
       "      <td>12147</td>\n",
       "      <td>103.646250</td>\n",
       "    </tr>\n",
       "    <tr>\n",
       "      <th>2016-12-31</th>\n",
       "      <td>8867</td>\n",
       "      <td>114.211345</td>\n",
       "    </tr>\n",
       "    <tr>\n",
       "      <th>2017-12-31</th>\n",
       "      <td>4585</td>\n",
       "      <td>108.658888</td>\n",
       "    </tr>\n",
       "    <tr>\n",
       "      <th>2018-12-31</th>\n",
       "      <td>4294</td>\n",
       "      <td>138.209362</td>\n",
       "    </tr>\n",
       "    <tr>\n",
       "      <th>2019-12-31</th>\n",
       "      <td>5685</td>\n",
       "      <td>129.962533</td>\n",
       "    </tr>\n",
       "    <tr>\n",
       "      <th>2020-12-31</th>\n",
       "      <td>3363</td>\n",
       "      <td>143.517098</td>\n",
       "    </tr>\n",
       "    <tr>\n",
       "      <th>2021-12-31</th>\n",
       "      <td>133</td>\n",
       "      <td>93.488722</td>\n",
       "    </tr>\n",
       "  </tbody>\n",
       "</table>\n",
       "</div>"
      ],
      "text/plain": [
       "            neighbourhood       price\n",
       "host_since                           \n",
       "2008-12-31              4   77.750000\n",
       "2009-12-31            106  159.641509\n",
       "2010-12-31            416  125.031250\n",
       "2011-12-31           1339  124.828230\n",
       "2012-12-31           4592  111.578615\n",
       "2013-12-31           8142  107.096414\n",
       "2014-12-31          10922  100.253800\n",
       "2015-12-31          12147  103.646250\n",
       "2016-12-31           8867  114.211345\n",
       "2017-12-31           4585  108.658888\n",
       "2018-12-31           4294  138.209362\n",
       "2019-12-31           5685  129.962533\n",
       "2020-12-31           3363  143.517098\n",
       "2021-12-31            133   93.488722"
      ]
     },
     "execution_count": 45,
     "metadata": {},
     "output_type": "execute_result"
    }
   ],
   "source": [
    "paris_listings_over_time"
   ]
  },
  {
   "cell_type": "markdown",
   "id": "79d7e608",
   "metadata": {
    "papermill": {
     "duration": 0.021253,
     "end_time": "2025-01-22T11:40:12.013649",
     "exception": false,
     "start_time": "2025-01-22T11:40:11.992396",
     "status": "completed"
    },
    "tags": []
   },
   "source": [
    "### **Plots a line chart showing the popularity of Airbnb listings over time by neighbourhood count.**"
   ]
  },
  {
   "cell_type": "code",
   "execution_count": 46,
   "id": "e02ecb83",
   "metadata": {
    "execution": {
     "iopub.execute_input": "2025-01-22T11:40:12.059875Z",
     "iopub.status.busy": "2025-01-22T11:40:12.059510Z",
     "iopub.status.idle": "2025-01-22T11:40:12.394268Z",
     "shell.execute_reply": "2025-01-22T11:40:12.393004Z"
    },
    "papermill": {
     "duration": 0.359802,
     "end_time": "2025-01-22T11:40:12.396262",
     "exception": false,
     "start_time": "2025-01-22T11:40:12.036460",
     "status": "completed"
    },
    "tags": []
   },
   "outputs": [
    {
     "name": "stderr",
     "output_type": "stream",
     "text": [
      "/usr/local/lib/python3.10/dist-packages/seaborn/_oldcore.py:1119: FutureWarning: use_inf_as_na option is deprecated and will be removed in a future version. Convert inf values to NaN before operating instead.\n",
      "  with pd.option_context('mode.use_inf_as_na', True):\n",
      "/usr/local/lib/python3.10/dist-packages/seaborn/_oldcore.py:1119: FutureWarning: use_inf_as_na option is deprecated and will be removed in a future version. Convert inf values to NaN before operating instead.\n",
      "  with pd.option_context('mode.use_inf_as_na', True):\n"
     ]
    },
    {
     "data": {
      "image/png": "[encoded data removed]",
      "text/plain": [
       "<Figure size 640x480 with 1 Axes>"
      ]
     },
     "metadata": {},
     "output_type": "display_data"
    }
   ],
   "source": [
    "sns.lineplot(paris_listings_over_time[\"neighbourhood\"],color=\"navy\")\n",
    "plt.xlabel(\"Years\")\n",
    "plt.ylabel(\"Number of Location\")\n",
    "plt.title(\"popularity of AirBnBs Over time\")\n",
    "plt.show()"
   ]
  },
  {
   "cell_type": "markdown",
   "id": "b4ab24e9",
   "metadata": {
    "execution": {
     "iopub.execute_input": "2025-01-14T09:22:22.196158Z",
     "iopub.status.busy": "2025-01-14T09:22:22.195798Z",
     "iopub.status.idle": "2025-01-14T09:22:22.199861Z",
     "shell.execute_reply": "2025-01-14T09:22:22.198882Z",
     "shell.execute_reply.started": "2025-01-14T09:22:22.196119Z"
    },
    "papermill": {
     "duration": 0.022639,
     "end_time": "2025-01-22T11:40:12.442432",
     "exception": false,
     "start_time": "2025-01-22T11:40:12.419793",
     "status": "completed"
    },
    "tags": []
   },
   "source": [
    "### 1.  There is a clear drop in the popularity of AirBnBs after the regulation was introduced.(2016 - 2017)\n",
    "### 2. We can see an upwards trend when the regulation is imposed and everyone gets used to it(2018 - 2019).\n",
    "###  3. Howerver, covid_19  has again hit the AirBnBs business(2020)"
   ]
  },
  {
   "cell_type": "code",
   "execution_count": 47,
   "id": "968f4551",
   "metadata": {
    "execution": {
     "iopub.execute_input": "2025-01-22T11:40:12.488912Z",
     "iopub.status.busy": "2025-01-22T11:40:12.488443Z",
     "iopub.status.idle": "2025-01-22T11:40:12.814471Z",
     "shell.execute_reply": "2025-01-22T11:40:12.813216Z"
    },
    "papermill": {
     "duration": 0.351681,
     "end_time": "2025-01-22T11:40:12.816440",
     "exception": false,
     "start_time": "2025-01-22T11:40:12.464759",
     "status": "completed"
    },
    "tags": []
   },
   "outputs": [
    {
     "name": "stderr",
     "output_type": "stream",
     "text": [
      "/usr/local/lib/python3.10/dist-packages/seaborn/_oldcore.py:1119: FutureWarning: use_inf_as_na option is deprecated and will be removed in a future version. Convert inf values to NaN before operating instead.\n",
      "  with pd.option_context('mode.use_inf_as_na', True):\n",
      "/usr/local/lib/python3.10/dist-packages/seaborn/_oldcore.py:1119: FutureWarning: use_inf_as_na option is deprecated and will be removed in a future version. Convert inf values to NaN before operating instead.\n",
      "  with pd.option_context('mode.use_inf_as_na', True):\n"
     ]
    },
    {
     "data": {
      "image/png": "[encoded data removed]",
      "text/plain": [
       "<Figure size 640x480 with 1 Axes>"
      ]
     },
     "metadata": {},
     "output_type": "display_data"
    }
   ],
   "source": [
    "sns.lineplot(paris_listings_over_time[\"price\"],color=\"brown\")\n",
    "plt.xlabel(\"Years\")\n",
    "plt.ylabel(\"Average price\")\n",
    "plt.title(\" Average price Over the  year for Paris\")\n",
    "plt.show()"
   ]
  },
  {
   "cell_type": "code",
   "execution_count": 48,
   "id": "b28c1e53",
   "metadata": {
    "execution": {
     "iopub.execute_input": "2025-01-22T11:40:12.868782Z",
     "iopub.status.busy": "2025-01-22T11:40:12.868459Z",
     "iopub.status.idle": "2025-01-22T11:40:13.278127Z",
     "shell.execute_reply": "2025-01-22T11:40:13.276887Z"
    },
    "papermill": {
     "duration": 0.439648,
     "end_time": "2025-01-22T11:40:13.279873",
     "exception": false,
     "start_time": "2025-01-22T11:40:12.840225",
     "status": "completed"
    },
    "tags": []
   },
   "outputs": [
    {
     "data": {
      "image/png": "[encoded data removed]",
      "text/plain": [
       "<Figure size 640x480 with 2 Axes>"
      ]
     },
     "metadata": {},
     "output_type": "display_data"
    }
   ],
   "source": [
    "fig , ax = plt.subplots()\n",
    "\n",
    "ax.plot(paris_listings_over_time.index,paris_listings_over_time[\"neighbourhood\"],\n",
    "        label = \"New Hosts\",\n",
    "        c= \"pink\")\n",
    "\n",
    "ax.set_ylabel(\"New Hosts\")\n",
    "\n",
    "ax2 = ax.twinx()\n",
    "\n",
    "ax2.plot(paris_listings_over_time.index,paris_listings_over_time[\"price\"],\n",
    "        label = \"Average price\")\n",
    "\n",
    "ax2.set_ylim(0)\n",
    "\n",
    "ax2.set_ylabel(\"Average price\")\n",
    "\n",
    "ax.set_title(\"Regulations Lead to Fever New Hosts and Higher Prices\")\n",
    "\n",
    "plt.show()"
   ]
  },
  {
   "cell_type": "markdown",
   "id": "2464af3f",
   "metadata": {
    "papermill": {
     "duration": 0.023946,
     "end_time": "2025-01-22T11:40:13.328003",
     "exception": false,
     "start_time": "2025-01-22T11:40:13.304057",
     "status": "completed"
    },
    "tags": []
   },
   "source": [
    "# Recommandation for AirBnB\n",
    "\n",
    "1. Regulations in long term rentals can impact the business adversely, there might be customer churn due to uncertainty.\n",
    "2. Such regulations might add to  AirBnB losses which might be difficult to recover later.\n",
    "3. If the customer Experience is going to get impacted due to this, it would lead to incorrect brand perception.\n",
    "4. it is recommended to watch out for any such regulations at other places and be prepared for it.\n",
    "5. AirBnB can replicate such regulations at other places.\n",
    "6. they can keep strict rules to onboard and release the hosts.\n",
    "7. they can limit the number of AirBnBs in a locality to ensure the public has enough rental options and the government doesnt step in.\n"
   ]
  },
  {
   "cell_type": "markdown",
   "id": "438d3959",
   "metadata": {
    "papermill": {
     "duration": 0.024335,
     "end_time": "2025-01-22T11:40:13.376311",
     "exception": false,
     "start_time": "2025-01-22T11:40:13.351976",
     "status": "completed"
    },
    "tags": []
   },
   "source": [
    "# Final Insights\n",
    "\n",
    "1.  The Number of AirBnBs kept on increasing since the launch and prices kept on increasing too, due to Initial  traction and early adopters.\n",
    "2.  After the startup is known to everyone and becames a comman utility,AirBnBs start increasing in numbers and price also kept on decreasing.\n",
    "3. After Regulaton was announced around 2015 there was under confindence in the business,number of AirBnBs started decreasing and price started increasing.\n",
    "4. once the regulation is the new normal, durning the year 2019,the number of AirBnBs have increased in number and price kept decreasing dur to more supply of them."
   ]
  }
 ],
 "metadata": {
  "kaggle": {
   "accelerator": "none",
   "dataSources": [
    {
     "datasetId": 1530930,
     "sourceId": 2526818,
     "sourceType": "datasetVersion"
    }
   ],
   "dockerImageVersionId": 30822,
   "isGpuEnabled": false,
   "isInternetEnabled": false,
   "language": "python",
   "sourceType": "notebook"
  },
  "kernelspec": {
   "display_name": "Python 3",
   "language": "python",
   "name": "python3"
  },
  "language_info": {
   "codemirror_mode": {
    "name": "ipython",
    "version": 3
   },
   "file_extension": ".py",
   "mimetype": "text/x-python",
   "name": "python",
   "nbconvert_exporter": "python",
   "pygments_lexer": "ipython3",
   "version": "3.10.12"
  },
  "papermill": {
   "default_parameters": {},
   "duration": 23.680691,
   "end_time": "2025-01-22T11:40:14.121420",
   "environment_variables": {},
   "exception": null,
   "input_path": "__notebook__.ipynb",
   "output_path": "__notebook__.ipynb",
   "parameters": {},
   "start_time": "2025-01-22T11:39:50.440729",
   "version": "2.6.0"
  }
 },
 "nbformat": 4,
 "nbformat_minor": 5
}
